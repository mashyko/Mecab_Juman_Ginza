{
  "nbformat": 4,
  "nbformat_minor": 0,
  "metadata": {
    "colab": {
      "name": "Ginza_SpaCy.ipynb",
      "provenance": [],
      "collapsed_sections": [],
      "authorship_tag": "ABX9TyNRbZvinpoFL7GbY7hMDmQZ",
      "include_colab_link": true
    },
    "kernelspec": {
      "name": "python3",
      "display_name": "Python 3"
    }
  },
  "cells": [
    {
      "cell_type": "markdown",
      "metadata": {
        "id": "view-in-github",
        "colab_type": "text"
      },
      "source": [
        "<a href=\"https://colab.research.google.com/github/mashyko/NLP_BERT_Transformers/blob/master/Ginza_SpaCy.ipynb\" target=\"_parent\"><img src=\"https://colab.research.google.com/assets/colab-badge.svg\" alt=\"Open In Colab\"/></a>"
      ]
    },
    {
      "cell_type": "markdown",
      "metadata": {
        "id": "lzoPh3J_n5sN",
        "colab_type": "text"
      },
      "source": [
        "# GiNZA + SpaCy で日本語処理"
      ]
    },
    {
      "cell_type": "markdown",
      "metadata": {
        "id": "BLAaY0prODCR",
        "colab_type": "text"
      },
      "source": [
        "最初に、spaCyをインストールします。spaCyの公式サイトはhttps://spacy.io　です。\n"
      ]
    },
    {
      "cell_type": "code",
      "metadata": {
        "id": "F9_74k2wM1x5",
        "colab_type": "code",
        "colab": {}
      },
      "source": [
        "# Colabではすでにデフォルトでインストールされています。\n",
        "#!pip install spacy"
      ],
      "execution_count": 0,
      "outputs": []
    },
    {
      "cell_type": "markdown",
      "metadata": {
        "id": "o56R1s9cR3NW",
        "colab_type": "text"
      },
      "source": [
        "次に、GiNZAをインストールします。"
      ]
    },
    {
      "cell_type": "code",
      "metadata": {
        "id": "hdTNHQIlM__Z",
        "colab_type": "code",
        "outputId": "14295ed2-b6f6-4b47-98ee-8b07598bd60f",
        "colab": {
          "base_uri": "https://localhost:8080/",
          "height": 496
        }
      },
      "source": [
        "#!pip install \"https://github.com/megagonlabs/ginza/releases/download/latest/ginza-latest.tar.gz\"\n",
        "!pip install -U ginza"
      ],
      "execution_count": 2,
      "outputs": [
        {
          "output_type": "stream",
          "text": [
            "Requirement already up-to-date: ginza in /usr/local/lib/python3.6/dist-packages (3.1.2)\n",
            "Requirement already satisfied, skipping upgrade: ja-ginza<3.2.0,>=3.1.0 in /usr/local/lib/python3.6/dist-packages (from ginza) (3.1.0)\n",
            "Requirement already satisfied, skipping upgrade: SudachiPy>=0.4.2; python_version >= \"3.5\" in /usr/local/lib/python3.6/dist-packages (from ginza) (0.4.4)\n",
            "Requirement already satisfied, skipping upgrade: spacy>=2.2.3 in /usr/local/lib/python3.6/dist-packages (from ginza) (2.2.4)\n",
            "Requirement already satisfied, skipping upgrade: ja-ginza-dict<3.2.0,>=3.1.0 in /usr/local/lib/python3.6/dist-packages (from ja-ginza<3.2.0,>=3.1.0->ginza) (3.1.0)\n",
            "Requirement already satisfied, skipping upgrade: dartsclone~=0.9.0 in /usr/local/lib/python3.6/dist-packages (from SudachiPy>=0.4.2; python_version >= \"3.5\"->ginza) (0.9.0)\n",
            "Requirement already satisfied, skipping upgrade: sortedcontainers~=2.1.0 in /usr/local/lib/python3.6/dist-packages (from SudachiPy>=0.4.2; python_version >= \"3.5\"->ginza) (2.1.0)\n",
            "Requirement already satisfied, skipping upgrade: thinc==7.4.0 in /usr/local/lib/python3.6/dist-packages (from spacy>=2.2.3->ginza) (7.4.0)\n",
            "Requirement already satisfied, skipping upgrade: setuptools in /usr/local/lib/python3.6/dist-packages (from spacy>=2.2.3->ginza) (46.1.3)\n",
            "Requirement already satisfied, skipping upgrade: srsly<1.1.0,>=1.0.2 in /usr/local/lib/python3.6/dist-packages (from spacy>=2.2.3->ginza) (1.0.2)\n",
            "Requirement already satisfied, skipping upgrade: numpy>=1.15.0 in /usr/local/lib/python3.6/dist-packages (from spacy>=2.2.3->ginza) (1.18.4)\n",
            "Requirement already satisfied, skipping upgrade: cymem<2.1.0,>=2.0.2 in /usr/local/lib/python3.6/dist-packages (from spacy>=2.2.3->ginza) (2.0.3)\n",
            "Requirement already satisfied, skipping upgrade: preshed<3.1.0,>=3.0.2 in /usr/local/lib/python3.6/dist-packages (from spacy>=2.2.3->ginza) (3.0.2)\n",
            "Requirement already satisfied, skipping upgrade: requests<3.0.0,>=2.13.0 in /usr/local/lib/python3.6/dist-packages (from spacy>=2.2.3->ginza) (2.23.0)\n",
            "Requirement already satisfied, skipping upgrade: catalogue<1.1.0,>=0.0.7 in /usr/local/lib/python3.6/dist-packages (from spacy>=2.2.3->ginza) (1.0.0)\n",
            "Requirement already satisfied, skipping upgrade: tqdm<5.0.0,>=4.38.0 in /usr/local/lib/python3.6/dist-packages (from spacy>=2.2.3->ginza) (4.41.1)\n",
            "Requirement already satisfied, skipping upgrade: wasabi<1.1.0,>=0.4.0 in /usr/local/lib/python3.6/dist-packages (from spacy>=2.2.3->ginza) (0.6.0)\n",
            "Requirement already satisfied, skipping upgrade: murmurhash<1.1.0,>=0.28.0 in /usr/local/lib/python3.6/dist-packages (from spacy>=2.2.3->ginza) (1.0.2)\n",
            "Requirement already satisfied, skipping upgrade: plac<1.2.0,>=0.9.6 in /usr/local/lib/python3.6/dist-packages (from spacy>=2.2.3->ginza) (1.1.3)\n",
            "Requirement already satisfied, skipping upgrade: blis<0.5.0,>=0.4.0 in /usr/local/lib/python3.6/dist-packages (from spacy>=2.2.3->ginza) (0.4.1)\n",
            "Requirement already satisfied, skipping upgrade: Cython in /usr/local/lib/python3.6/dist-packages (from dartsclone~=0.9.0->SudachiPy>=0.4.2; python_version >= \"3.5\"->ginza) (0.29.17)\n",
            "Requirement already satisfied, skipping upgrade: certifi>=2017.4.17 in /usr/local/lib/python3.6/dist-packages (from requests<3.0.0,>=2.13.0->spacy>=2.2.3->ginza) (2020.4.5.1)\n",
            "Requirement already satisfied, skipping upgrade: urllib3!=1.25.0,!=1.25.1,<1.26,>=1.21.1 in /usr/local/lib/python3.6/dist-packages (from requests<3.0.0,>=2.13.0->spacy>=2.2.3->ginza) (1.24.3)\n",
            "Requirement already satisfied, skipping upgrade: idna<3,>=2.5 in /usr/local/lib/python3.6/dist-packages (from requests<3.0.0,>=2.13.0->spacy>=2.2.3->ginza) (2.9)\n",
            "Requirement already satisfied, skipping upgrade: chardet<4,>=3.0.2 in /usr/local/lib/python3.6/dist-packages (from requests<3.0.0,>=2.13.0->spacy>=2.2.3->ginza) (3.0.4)\n",
            "Requirement already satisfied, skipping upgrade: importlib-metadata>=0.20; python_version < \"3.8\" in /usr/local/lib/python3.6/dist-packages (from catalogue<1.1.0,>=0.0.7->spacy>=2.2.3->ginza) (1.6.0)\n",
            "Requirement already satisfied, skipping upgrade: zipp>=0.5 in /usr/local/lib/python3.6/dist-packages (from importlib-metadata>=0.20; python_version < \"3.8\"->catalogue<1.1.0,>=0.0.7->spacy>=2.2.3->ginza) (3.1.0)\n"
          ],
          "name": "stdout"
        }
      ]
    },
    {
      "cell_type": "markdown",
      "metadata": {
        "id": "Zqr7BctiSRVT",
        "colab_type": "text"
      },
      "source": [
        "spaCyで日本語処理を実行してみます。 spaCy をインポートして、GiNZA のモデルをロードします。また、慣例としてロードしたモデルは nlp という変数名で保持します。\n",
        "\n",
        "実際に日本語の文章をトークン化してみます。"
      ]
    },
    {
      "cell_type": "code",
      "metadata": {
        "id": "RjhusFonNkAW",
        "colab_type": "code",
        "colab": {}
      },
      "source": [
        "import spacy\n",
        "nlp = spacy.load('ja_ginza')"
      ],
      "execution_count": 0,
      "outputs": []
    },
    {
      "cell_type": "code",
      "metadata": {
        "id": "OnbcLobDNlv7",
        "colab_type": "code",
        "outputId": "85266506-6d84-4264-c84b-b5cd8cc79a7b",
        "colab": {
          "base_uri": "https://localhost:8080/",
          "height": 255
        }
      },
      "source": [
        "doc = nlp('恵比寿にあるあのイタリアンにはよく行く。美味しいんだ。')\n",
        "for sent in doc.sents:\n",
        "    for token in sent:\n",
        "        info = [\n",
        "            token.i,         # トークン番号\n",
        "            token.text,     # テキスト\n",
        "            token._.reading, # 読みカナ\n",
        "            token.lemma_,    # 基本形\n",
        "            token.pos_,      # 品詞\n",
        "            token.tag_,      # 品詞詳細\n",
        "            token._.inf      # 活用情報\n",
        "        ]\n",
        "        print(info)\n",
        "        "
      ],
      "execution_count": 4,
      "outputs": [
        {
          "output_type": "stream",
          "text": [
            "[0, '恵比寿', 'エビス', '恵比寿', 'PROPN', '名詞-固有名詞-地名-一般', '*,*']\n",
            "[1, 'に', 'ニ', 'に', 'ADP', '助詞-格助詞', '*,*']\n",
            "[2, 'ある', 'アル', '有る', 'VERB', '動詞-非自立可能', '五段-ラ行,連体形-一般']\n",
            "[3, 'あの', 'アノ', 'あの', 'INTJ', '感動詞-フィラー', '*,*']\n",
            "[4, 'イタリアン', 'イタリアン', 'イタリアン', 'NOUN', '名詞-普通名詞-形状詞可能', '*,*']\n",
            "[5, 'に', 'ニ', 'に', 'ADP', '助詞-格助詞', '*,*']\n",
            "[6, 'は', 'ハ', 'は', 'ADP', '助詞-係助詞', '*,*']\n",
            "[7, 'よく', 'ヨク', '良く', 'ADV', '副詞', '*,*']\n",
            "[8, '行く', 'イク', '行く', 'VERB', '動詞-非自立可能', '五段-カ行,終止形-一般']\n",
            "[9, '。', '。', '。', 'PUNCT', '補助記号-句点', '*,*']\n",
            "[10, '美味しい', 'オイシイ', '美味しい', 'ADJ', '形容詞-一般', '形容詞,連体形-一般']\n",
            "[11, 'ん', 'ン', 'の', 'SCONJ', '助詞-準体助詞', '*,*']\n",
            "[12, 'だ', 'ダ', 'だ', 'AUX', '助動詞', '助動詞-ダ,終止形-一般']\n",
            "[13, '。', '。', '。', 'PUNCT', '補助記号-句点', '*,*']\n"
          ],
          "name": "stdout"
        }
      ]
    },
    {
      "cell_type": "code",
      "metadata": {
        "id": "YfWSdEd3NrRJ",
        "colab_type": "code",
        "outputId": "9cbedbb2-26ef-43a9-9d21-c33c9afe82cd",
        "colab": {
          "base_uri": "https://localhost:8080/",
          "height": 952
        }
      },
      "source": [
        "doc = nlp(\"1976年、ジョブズは友人のスティーブ・ウォズニアックが自作したマイクロコンピュータ「Apple I」を販売するために起業することを決意し、\\\n",
        "同年4月1日にウォズニアックおよびロナルド・ウェインと共同で「アップルコンピュータ・カンパニー」を創業した。\")\n",
        " \n",
        "for token in doc:\n",
        "    print(token.text, token.pos_, token.vector[:2]) # 単語ベクトルの最初の2次元のみ出力\n",
        " "
      ],
      "execution_count": 5,
      "outputs": [
        {
          "output_type": "stream",
          "text": [
            "1976 NUM [0. 0.]\n",
            "年 NOUN [ 0.620315  -0.4152714]\n",
            "、 PUNCT [-0.13570154  0.03189861]\n",
            "ジョブズ PROPN [0.8202456  0.20616409]\n",
            "は ADP [-0.05453783  0.24504063]\n",
            "友人 NOUN [1.3353887  0.12673263]\n",
            "の ADP [-0.15094382 -0.08154755]\n",
            "スティーブ PROPN [-0.03989342  0.54386944]\n",
            "・ PUNCT [-0.3316787  1.6892753]\n",
            "ウォズニアック PROPN [0. 0.]\n",
            "が ADP [-0.4157958   0.29251373]\n",
            "自作 VERB [ 1.0381305 -2.1053782]\n",
            "し AUX [ 0.49752328 -0.49136245]\n",
            "た AUX [ 0.66177905 -0.2524343 ]\n",
            "マイクロコンピュータ NOUN [-0.25982904 -0.6955822 ]\n",
            "「 PUNCT [ 0.01591846 -0.05320641]\n",
            "Apple NOUN [0. 0.]\n",
            "I NOUN [0. 0.]\n",
            "」 PUNCT [-0.10184797  0.06876247]\n",
            "を ADP [ 0.14823031 -0.36073384]\n",
            "販売 VERB [ 0.23586828 -2.3058503 ]\n",
            "する AUX [-0.42045692 -0.4962955 ]\n",
            "ため NOUN [0.6051109  0.03168863]\n",
            "に ADP [-0.3364834 -0.3304015]\n",
            "起業 VERB [ 0.60642695 -1.3447245 ]\n",
            "する AUX [-0.42045692 -0.4962955 ]\n",
            "こと NOUN [ 0.2582989 -0.5639797]\n",
            "を ADP [ 0.14823031 -0.36073384]\n",
            "決意 VERB [4.2441387 0.165775 ]\n",
            "し AUX [ 0.49752328 -0.49136245]\n",
            "、 PUNCT [-0.13570154  0.03189861]\n",
            "同年 NOUN [ 1.5659472 -0.3075389]\n",
            "4 NUM [0. 0.]\n",
            "月 NOUN [ 1.1726576  -0.80225676]\n",
            "1日 NOUN [0. 0.]\n",
            "に ADP [-0.3364834 -0.3304015]\n",
            "ウォズニアック PROPN [0. 0.]\n",
            "および CCONJ [-1.4511517  -0.09837845]\n",
            "ロナルド PROPN [0.9508048 0.6203   ]\n",
            "・ PUNCT [-0.3316787  1.6892753]\n",
            "ウェイン PROPN [0.32547486 0.44027627]\n",
            "と ADP [-0.02821635  0.5194656 ]\n",
            "共同 NOUN [-0.38317335  0.11683632]\n",
            "で ADP [-0.11067865 -0.5482236 ]\n",
            "「 PUNCT [ 0.01591846 -0.05320641]\n",
            "アップル NOUN [-1.0030277 -0.1399323]\n",
            "コンピュータ NOUN [-0.3816494 -2.0670304]\n",
            "・ PUNCT [-0.3316787  1.6892753]\n",
            "カンパニー NOUN [-0.7010228   0.67129976]\n",
            "」 PUNCT [-0.10184797  0.06876247]\n",
            "を ADP [ 0.14823031 -0.36073384]\n",
            "創業 VERB [-2.0564127 -2.613295 ]\n",
            "し AUX [ 0.49752328 -0.49136245]\n",
            "た AUX [ 0.66177905 -0.2524343 ]\n",
            "。 PUNCT [-0.13984448 -0.6916542 ]\n"
          ],
          "name": "stdout"
        }
      ]
    },
    {
      "cell_type": "markdown",
      "metadata": {
        "id": "Z0nalUqJSzJ3",
        "colab_type": "text"
      },
      "source": [
        "形態素解析した文章を文単位に分割するときは、doc.sents を用いて"
      ]
    },
    {
      "cell_type": "code",
      "metadata": {
        "id": "LWGTDHi3RpDr",
        "colab_type": "code",
        "outputId": "602fd89d-ca1b-4ec2-9dd5-d5ed06867fc3",
        "colab": {
          "base_uri": "https://localhost:8080/",
          "height": 51
        }
      },
      "source": [
        "doc =nlp('spaCy はオープンソースの自然言語処理ライブラリです。学習済みの統計モデルと単語ベクトルが付属しています。')\n",
        "for s in doc.sents:\n",
        "    print(s)"
      ],
      "execution_count": 6,
      "outputs": [
        {
          "output_type": "stream",
          "text": [
            "spaCy はオープンソースの自然言語処理ライブラリです。\n",
            "学習済みの統計モデルと単語ベクトルが付属しています。\n"
          ],
          "name": "stdout"
        }
      ]
    },
    {
      "cell_type": "markdown",
      "metadata": {
        "id": "3RFTbtPhmKbc",
        "colab_type": "text"
      },
      "source": [
        "名詞句のみ抽出するときは、以下のようにします。doc.noun_chunks を用います。"
      ]
    },
    {
      "cell_type": "code",
      "metadata": {
        "id": "HxSPGJoEmH5r",
        "colab_type": "code",
        "colab": {
          "base_uri": "https://localhost:8080/",
          "height": 119
        },
        "outputId": "929fb5aa-6abd-4247-8ddf-85bf73265910"
      },
      "source": [
        "for np in doc.noun_chunks:\n",
        "    print(np)"
      ],
      "execution_count": 7,
      "outputs": [
        {
          "output_type": "stream",
          "text": [
            "spaCy\n",
            "オープンソース\n",
            "自然言語処理ライブラリ\n",
            "学習済み\n",
            "統計モデル\n",
            "単語ベクトル\n"
          ],
          "name": "stdout"
        }
      ]
    },
    {
      "cell_type": "markdown",
      "metadata": {
        "id": "h8v6FBlqmbuT",
        "colab_type": "text"
      },
      "source": [
        ""
      ]
    },
    {
      "cell_type": "code",
      "metadata": {
        "id": "0jZ1rmvKjJs1",
        "colab_type": "code",
        "colab": {
          "base_uri": "https://localhost:8080/",
          "height": 442
        },
        "outputId": "38ec740c-27fb-4853-ebfd-84c43883dbc5"
      },
      "source": [
        "for token in doc:\n",
        "  print(token.text)"
      ],
      "execution_count": 8,
      "outputs": [
        {
          "output_type": "stream",
          "text": [
            "spaCy\n",
            "は\n",
            "オープンソース\n",
            "の\n",
            "自然\n",
            "言語\n",
            "処理\n",
            "ライブラリ\n",
            "です\n",
            "。\n",
            "学習\n",
            "済み\n",
            "の\n",
            "統計\n",
            "モデル\n",
            "と\n",
            "単語\n",
            "ベクトル\n",
            "が\n",
            "付属\n",
            "し\n",
            "て\n",
            "い\n",
            "ます\n",
            "。\n"
          ],
          "name": "stdout"
        }
      ]
    },
    {
      "cell_type": "code",
      "metadata": {
        "id": "5ZeHjlalkBA_",
        "colab_type": "code",
        "colab": {
          "base_uri": "https://localhost:8080/",
          "height": 442
        },
        "outputId": "c3f90830-5468-4f9b-b74b-68471a558bba"
      },
      "source": [
        "for token in doc:\n",
        "  print(\"token[%2d] = %-10s, pos:%-6s, dep:%-10s, head=%d\" % (token.i, token.text, token.pos_, token.dep_, token.head.i))\n",
        "\n"
      ],
      "execution_count": 9,
      "outputs": [
        {
          "output_type": "stream",
          "text": [
            "token[ 0] = spaCy     , pos:NOUN  , dep:nsubj     , head=7\n",
            "token[ 1] = は         , pos:ADP   , dep:case      , head=0\n",
            "token[ 2] = オープンソース   , pos:PROPN , dep:nmod      , head=7\n",
            "token[ 3] = の         , pos:ADP   , dep:case      , head=2\n",
            "token[ 4] = 自然        , pos:NOUN  , dep:compound  , head=7\n",
            "token[ 5] = 言語        , pos:NOUN  , dep:compound  , head=7\n",
            "token[ 6] = 処理        , pos:NOUN  , dep:compound  , head=7\n",
            "token[ 7] = ライブラリ     , pos:NOUN  , dep:ROOT      , head=7\n",
            "token[ 8] = です        , pos:AUX   , dep:cop       , head=7\n",
            "token[ 9] = 。         , pos:PUNCT , dep:punct     , head=7\n",
            "token[10] = 学習        , pos:NOUN  , dep:compound  , head=11\n",
            "token[11] = 済み        , pos:NOUN  , dep:nmod      , head=14\n",
            "token[12] = の         , pos:ADP   , dep:case      , head=11\n",
            "token[13] = 統計        , pos:NOUN  , dep:compound  , head=14\n",
            "token[14] = モデル       , pos:NOUN  , dep:nmod      , head=17\n",
            "token[15] = と         , pos:ADP   , dep:case      , head=14\n",
            "token[16] = 単語        , pos:NOUN  , dep:compound  , head=17\n",
            "token[17] = ベクトル      , pos:NOUN  , dep:nsubj     , head=19\n",
            "token[18] = が         , pos:ADP   , dep:case      , head=17\n",
            "token[19] = 付属        , pos:VERB  , dep:ROOT      , head=19\n",
            "token[20] = し         , pos:AUX   , dep:aux       , head=19\n",
            "token[21] = て         , pos:SCONJ , dep:mark      , head=19\n",
            "token[22] = い         , pos:AUX   , dep:aux       , head=19\n",
            "token[23] = ます        , pos:AUX   , dep:aux       , head=19\n",
            "token[24] = 。         , pos:PUNCT , dep:punct     , head=19\n"
          ],
          "name": "stdout"
        }
      ]
    },
    {
      "cell_type": "markdown",
      "metadata": {
        "id": "xElquPeFqZi6",
        "colab_type": "text"
      },
      "source": [
        "文章のトークン化で生成された単語のベクトル表現を見るときは、以下のように入力します。"
      ]
    },
    {
      "cell_type": "code",
      "metadata": {
        "id": "O6HRumjEmr3G",
        "colab_type": "code",
        "colab": {
          "base_uri": "https://localhost:8080/",
          "height": 323
        },
        "outputId": "813040f2-2d32-4a3d-c946-6fcad9379eb5"
      },
      "source": [
        "token = doc[6]\n",
        "print(token)\n",
        "print(token.vector)"
      ],
      "execution_count": 10,
      "outputs": [
        {
          "output_type": "stream",
          "text": [
            "処理\n",
            "[-0.20311877 -1.358977    0.24872515 -0.23106259  1.3038377  -1.4496866\n",
            "  0.40794867  0.15513091  2.0505989  -0.94636154 -1.7535685   0.53737295\n",
            " -1.5613228  -0.2857393   0.78408945  1.5640978  -0.3332419  -0.38211027\n",
            "  0.48222083 -1.1883434  -0.85445374 -0.87986547 -2.2032619   0.26650086\n",
            " -1.4900254  -0.3996739  -1.331075   -1.4302186  -0.6631059   1.9077436\n",
            "  1.2608107   0.9047042  -1.3817195  -0.58531326  0.3410195  -1.158211\n",
            "  1.4832613  -1.4990202  -0.26505744 -0.04570812  2.418461    1.8889856\n",
            " -2.1903641  -0.32540825  0.5353871  -0.43971512  0.9029108   1.3683398\n",
            " -0.9120034  -0.77578264  1.9488457  -0.06035174  1.0917805   0.10184424\n",
            "  0.76855266 -1.4134537  -1.3950531  -1.9409499   0.41531262  0.9787794\n",
            " -0.51770973 -1.0257689  -3.2245076  -1.2388592   0.6637681  -1.152241\n",
            "  1.7347922  -0.65216476 -1.7757593  -0.88769454  1.9090078   0.67685235\n",
            " -2.4857562   0.8740013   0.7177352   0.569689   -0.18773565  2.520089\n",
            " -0.8133031   0.6890889  -1.7569395  -0.6143321   0.11760429  0.6003066\n",
            " -0.38875285 -0.06739809  0.7119934  -0.8340411  -1.6176729   1.3949124\n",
            " -0.6910845   0.90575767 -1.1677864  -0.92965025  0.7546112  -0.36622941\n",
            " -0.27672234 -0.32892212 -1.1954005  -0.35757232]\n"
          ],
          "name": "stdout"
        }
      ]
    },
    {
      "cell_type": "code",
      "metadata": {
        "id": "WELHh3p3kNoe",
        "colab_type": "code",
        "colab": {
          "base_uri": "https://localhost:8080/",
          "height": 119
        },
        "outputId": "97d0dda3-20fa-43a5-c33f-62bdbe7d8613"
      },
      "source": [
        "doc2 = nlp('2018年の夏にフランスに行った。ジベルニー村のジャン・クロード・モネの家で池に浮かぶ睡蓮を見た。')\n",
        "for ent in doc2.ents:\n",
        "    print(ent.text, ent.start_char, ent.end_char, ent.label_)"
      ],
      "execution_count": 11,
      "outputs": [
        {
          "output_type": "stream",
          "text": [
            "2018年 0 5 Date\n",
            "夏 6 7 Date\n",
            "フランス 8 12 Country\n",
            "ジベルニー村 17 23 City\n",
            "ジャン・クロード・モネ 24 35 Person\n",
            "睡蓮 43 45 Flora\n"
          ],
          "name": "stdout"
        }
      ]
    },
    {
      "cell_type": "markdown",
      "metadata": {
        "id": "6BEI9fG-nCwh",
        "colab_type": "text"
      },
      "source": [
        "spaCyでは出力の可視化機能が豊富にあります。\n",
        "Jupyter環境で可視化するには、以下のspacy.displacyを使います。"
      ]
    },
    {
      "cell_type": "code",
      "metadata": {
        "id": "CBlm5hLJkQh5",
        "colab_type": "code",
        "colab": {
          "base_uri": "https://localhost:8080/",
          "height": 87
        },
        "outputId": "d1c21b80-d421-4029-a104-2a02afd40042"
      },
      "source": [
        "spacy.displacy.render(doc2, style=\"ent\", jupyter=True)"
      ],
      "execution_count": 12,
      "outputs": [
        {
          "output_type": "display_data",
          "data": {
            "text/html": [
              "<span class=\"tex2jax_ignore\"><div class=\"entities\" style=\"line-height: 2.5; direction: ltr\">\n",
              "<mark class=\"entity\" style=\"background: #bfe1d9; padding: 0.45em 0.6em; margin: 0 0.25em; line-height: 1; border-radius: 0.35em;\">\n",
              "    2018年\n",
              "    <span style=\"font-size: 0.8em; font-weight: bold; line-height: 1; border-radius: 0.35em; text-transform: uppercase; vertical-align: middle; margin-left: 0.5rem\">Date</span>\n",
              "</mark>\n",
              "の\n",
              "<mark class=\"entity\" style=\"background: #bfe1d9; padding: 0.45em 0.6em; margin: 0 0.25em; line-height: 1; border-radius: 0.35em;\">\n",
              "    夏\n",
              "    <span style=\"font-size: 0.8em; font-weight: bold; line-height: 1; border-radius: 0.35em; text-transform: uppercase; vertical-align: middle; margin-left: 0.5rem\">Date</span>\n",
              "</mark>\n",
              "に\n",
              "<mark class=\"entity\" style=\"background: #ddd; padding: 0.45em 0.6em; margin: 0 0.25em; line-height: 1; border-radius: 0.35em;\">\n",
              "    フランス\n",
              "    <span style=\"font-size: 0.8em; font-weight: bold; line-height: 1; border-radius: 0.35em; text-transform: uppercase; vertical-align: middle; margin-left: 0.5rem\">Country</span>\n",
              "</mark>\n",
              "に行った。\n",
              "<mark class=\"entity\" style=\"background: #ddd; padding: 0.45em 0.6em; margin: 0 0.25em; line-height: 1; border-radius: 0.35em;\">\n",
              "    ジベルニー村\n",
              "    <span style=\"font-size: 0.8em; font-weight: bold; line-height: 1; border-radius: 0.35em; text-transform: uppercase; vertical-align: middle; margin-left: 0.5rem\">City</span>\n",
              "</mark>\n",
              "の\n",
              "<mark class=\"entity\" style=\"background: #aa9cfc; padding: 0.45em 0.6em; margin: 0 0.25em; line-height: 1; border-radius: 0.35em;\">\n",
              "    ジャン・クロード・モネ\n",
              "    <span style=\"font-size: 0.8em; font-weight: bold; line-height: 1; border-radius: 0.35em; text-transform: uppercase; vertical-align: middle; margin-left: 0.5rem\">Person</span>\n",
              "</mark>\n",
              "の家で池に浮かぶ\n",
              "<mark class=\"entity\" style=\"background: #ddd; padding: 0.45em 0.6em; margin: 0 0.25em; line-height: 1; border-radius: 0.35em;\">\n",
              "    睡蓮\n",
              "    <span style=\"font-size: 0.8em; font-weight: bold; line-height: 1; border-radius: 0.35em; text-transform: uppercase; vertical-align: middle; margin-left: 0.5rem\">Flora</span>\n",
              "</mark>\n",
              "を見た。</div></span>"
            ],
            "text/plain": [
              "<IPython.core.display.HTML object>"
            ]
          },
          "metadata": {
            "tags": []
          }
        }
      ]
    },
    {
      "cell_type": "code",
      "metadata": {
        "id": "LR5uR6kepsQv",
        "colab_type": "code",
        "colab": {
          "base_uri": "https://localhost:8080/",
          "height": 478
        },
        "outputId": "6d00af1c-baec-46f5-f644-3f3f95d6629f"
      },
      "source": [
        "from spacy import displacy\n",
        "displacy.render(doc2, style=\"dep\", jupyter=True, options={\"compact\":True})\n",
        " "
      ],
      "execution_count": 13,
      "outputs": [
        {
          "output_type": "display_data",
          "data": {
            "text/html": [
              "<span class=\"tex2jax_ignore\"><svg xmlns=\"http://www.w3.org/2000/svg\" xmlns:xlink=\"http://www.w3.org/1999/xlink\" xml:lang=\"ja\" id=\"6660bad0e5ea47a0a1ea58c614d8f958-0\" class=\"displacy\" width=\"3800\" height=\"437.0\" direction=\"ltr\" style=\"max-width: none; height: 437.0px; color: #000000; background: #ffffff; font-family: Arial; direction: ltr\">\n",
              "<text class=\"displacy-token\" fill=\"currentColor\" text-anchor=\"middle\" y=\"347.0\">\n",
              "    <tspan class=\"displacy-word\" fill=\"currentColor\" x=\"50\">2018</tspan>\n",
              "    <tspan class=\"displacy-tag\" dy=\"2em\" fill=\"currentColor\" x=\"50\">NUM</tspan>\n",
              "</text>\n",
              "\n",
              "<text class=\"displacy-token\" fill=\"currentColor\" text-anchor=\"middle\" y=\"347.0\">\n",
              "    <tspan class=\"displacy-word\" fill=\"currentColor\" x=\"200\">年</tspan>\n",
              "    <tspan class=\"displacy-tag\" dy=\"2em\" fill=\"currentColor\" x=\"200\">NOUN</tspan>\n",
              "</text>\n",
              "\n",
              "<text class=\"displacy-token\" fill=\"currentColor\" text-anchor=\"middle\" y=\"347.0\">\n",
              "    <tspan class=\"displacy-word\" fill=\"currentColor\" x=\"350\">の</tspan>\n",
              "    <tspan class=\"displacy-tag\" dy=\"2em\" fill=\"currentColor\" x=\"350\">ADP</tspan>\n",
              "</text>\n",
              "\n",
              "<text class=\"displacy-token\" fill=\"currentColor\" text-anchor=\"middle\" y=\"347.0\">\n",
              "    <tspan class=\"displacy-word\" fill=\"currentColor\" x=\"500\">夏</tspan>\n",
              "    <tspan class=\"displacy-tag\" dy=\"2em\" fill=\"currentColor\" x=\"500\">NOUN</tspan>\n",
              "</text>\n",
              "\n",
              "<text class=\"displacy-token\" fill=\"currentColor\" text-anchor=\"middle\" y=\"347.0\">\n",
              "    <tspan class=\"displacy-word\" fill=\"currentColor\" x=\"650\">に</tspan>\n",
              "    <tspan class=\"displacy-tag\" dy=\"2em\" fill=\"currentColor\" x=\"650\">ADP</tspan>\n",
              "</text>\n",
              "\n",
              "<text class=\"displacy-token\" fill=\"currentColor\" text-anchor=\"middle\" y=\"347.0\">\n",
              "    <tspan class=\"displacy-word\" fill=\"currentColor\" x=\"800\">フランス</tspan>\n",
              "    <tspan class=\"displacy-tag\" dy=\"2em\" fill=\"currentColor\" x=\"800\">PROPN</tspan>\n",
              "</text>\n",
              "\n",
              "<text class=\"displacy-token\" fill=\"currentColor\" text-anchor=\"middle\" y=\"347.0\">\n",
              "    <tspan class=\"displacy-word\" fill=\"currentColor\" x=\"950\">に</tspan>\n",
              "    <tspan class=\"displacy-tag\" dy=\"2em\" fill=\"currentColor\" x=\"950\">ADP</tspan>\n",
              "</text>\n",
              "\n",
              "<text class=\"displacy-token\" fill=\"currentColor\" text-anchor=\"middle\" y=\"347.0\">\n",
              "    <tspan class=\"displacy-word\" fill=\"currentColor\" x=\"1100\">行っ</tspan>\n",
              "    <tspan class=\"displacy-tag\" dy=\"2em\" fill=\"currentColor\" x=\"1100\">VERB</tspan>\n",
              "</text>\n",
              "\n",
              "<text class=\"displacy-token\" fill=\"currentColor\" text-anchor=\"middle\" y=\"347.0\">\n",
              "    <tspan class=\"displacy-word\" fill=\"currentColor\" x=\"1250\">た。</tspan>\n",
              "    <tspan class=\"displacy-tag\" dy=\"2em\" fill=\"currentColor\" x=\"1250\">AUX</tspan>\n",
              "</text>\n",
              "\n",
              "<text class=\"displacy-token\" fill=\"currentColor\" text-anchor=\"middle\" y=\"347.0\">\n",
              "    <tspan class=\"displacy-word\" fill=\"currentColor\" x=\"1400\">ジベルニー</tspan>\n",
              "    <tspan class=\"displacy-tag\" dy=\"2em\" fill=\"currentColor\" x=\"1400\">PROPN</tspan>\n",
              "</text>\n",
              "\n",
              "<text class=\"displacy-token\" fill=\"currentColor\" text-anchor=\"middle\" y=\"347.0\">\n",
              "    <tspan class=\"displacy-word\" fill=\"currentColor\" x=\"1550\">村</tspan>\n",
              "    <tspan class=\"displacy-tag\" dy=\"2em\" fill=\"currentColor\" x=\"1550\">NOUN</tspan>\n",
              "</text>\n",
              "\n",
              "<text class=\"displacy-token\" fill=\"currentColor\" text-anchor=\"middle\" y=\"347.0\">\n",
              "    <tspan class=\"displacy-word\" fill=\"currentColor\" x=\"1700\">の</tspan>\n",
              "    <tspan class=\"displacy-tag\" dy=\"2em\" fill=\"currentColor\" x=\"1700\">ADP</tspan>\n",
              "</text>\n",
              "\n",
              "<text class=\"displacy-token\" fill=\"currentColor\" text-anchor=\"middle\" y=\"347.0\">\n",
              "    <tspan class=\"displacy-word\" fill=\"currentColor\" x=\"1850\">ジャン・</tspan>\n",
              "    <tspan class=\"displacy-tag\" dy=\"2em\" fill=\"currentColor\" x=\"1850\">PROPN</tspan>\n",
              "</text>\n",
              "\n",
              "<text class=\"displacy-token\" fill=\"currentColor\" text-anchor=\"middle\" y=\"347.0\">\n",
              "    <tspan class=\"displacy-word\" fill=\"currentColor\" x=\"2000\">クロード・</tspan>\n",
              "    <tspan class=\"displacy-tag\" dy=\"2em\" fill=\"currentColor\" x=\"2000\">PROPN</tspan>\n",
              "</text>\n",
              "\n",
              "<text class=\"displacy-token\" fill=\"currentColor\" text-anchor=\"middle\" y=\"347.0\">\n",
              "    <tspan class=\"displacy-word\" fill=\"currentColor\" x=\"2150\">モネ</tspan>\n",
              "    <tspan class=\"displacy-tag\" dy=\"2em\" fill=\"currentColor\" x=\"2150\">PROPN</tspan>\n",
              "</text>\n",
              "\n",
              "<text class=\"displacy-token\" fill=\"currentColor\" text-anchor=\"middle\" y=\"347.0\">\n",
              "    <tspan class=\"displacy-word\" fill=\"currentColor\" x=\"2300\">の</tspan>\n",
              "    <tspan class=\"displacy-tag\" dy=\"2em\" fill=\"currentColor\" x=\"2300\">ADP</tspan>\n",
              "</text>\n",
              "\n",
              "<text class=\"displacy-token\" fill=\"currentColor\" text-anchor=\"middle\" y=\"347.0\">\n",
              "    <tspan class=\"displacy-word\" fill=\"currentColor\" x=\"2450\">家</tspan>\n",
              "    <tspan class=\"displacy-tag\" dy=\"2em\" fill=\"currentColor\" x=\"2450\">NOUN</tspan>\n",
              "</text>\n",
              "\n",
              "<text class=\"displacy-token\" fill=\"currentColor\" text-anchor=\"middle\" y=\"347.0\">\n",
              "    <tspan class=\"displacy-word\" fill=\"currentColor\" x=\"2600\">で</tspan>\n",
              "    <tspan class=\"displacy-tag\" dy=\"2em\" fill=\"currentColor\" x=\"2600\">ADP</tspan>\n",
              "</text>\n",
              "\n",
              "<text class=\"displacy-token\" fill=\"currentColor\" text-anchor=\"middle\" y=\"347.0\">\n",
              "    <tspan class=\"displacy-word\" fill=\"currentColor\" x=\"2750\">池</tspan>\n",
              "    <tspan class=\"displacy-tag\" dy=\"2em\" fill=\"currentColor\" x=\"2750\">NOUN</tspan>\n",
              "</text>\n",
              "\n",
              "<text class=\"displacy-token\" fill=\"currentColor\" text-anchor=\"middle\" y=\"347.0\">\n",
              "    <tspan class=\"displacy-word\" fill=\"currentColor\" x=\"2900\">に</tspan>\n",
              "    <tspan class=\"displacy-tag\" dy=\"2em\" fill=\"currentColor\" x=\"2900\">ADP</tspan>\n",
              "</text>\n",
              "\n",
              "<text class=\"displacy-token\" fill=\"currentColor\" text-anchor=\"middle\" y=\"347.0\">\n",
              "    <tspan class=\"displacy-word\" fill=\"currentColor\" x=\"3050\">浮かぶ</tspan>\n",
              "    <tspan class=\"displacy-tag\" dy=\"2em\" fill=\"currentColor\" x=\"3050\">VERB</tspan>\n",
              "</text>\n",
              "\n",
              "<text class=\"displacy-token\" fill=\"currentColor\" text-anchor=\"middle\" y=\"347.0\">\n",
              "    <tspan class=\"displacy-word\" fill=\"currentColor\" x=\"3200\">睡蓮</tspan>\n",
              "    <tspan class=\"displacy-tag\" dy=\"2em\" fill=\"currentColor\" x=\"3200\">NOUN</tspan>\n",
              "</text>\n",
              "\n",
              "<text class=\"displacy-token\" fill=\"currentColor\" text-anchor=\"middle\" y=\"347.0\">\n",
              "    <tspan class=\"displacy-word\" fill=\"currentColor\" x=\"3350\">を</tspan>\n",
              "    <tspan class=\"displacy-tag\" dy=\"2em\" fill=\"currentColor\" x=\"3350\">ADP</tspan>\n",
              "</text>\n",
              "\n",
              "<text class=\"displacy-token\" fill=\"currentColor\" text-anchor=\"middle\" y=\"347.0\">\n",
              "    <tspan class=\"displacy-word\" fill=\"currentColor\" x=\"3500\">見</tspan>\n",
              "    <tspan class=\"displacy-tag\" dy=\"2em\" fill=\"currentColor\" x=\"3500\">VERB</tspan>\n",
              "</text>\n",
              "\n",
              "<text class=\"displacy-token\" fill=\"currentColor\" text-anchor=\"middle\" y=\"347.0\">\n",
              "    <tspan class=\"displacy-word\" fill=\"currentColor\" x=\"3650\">た。</tspan>\n",
              "    <tspan class=\"displacy-tag\" dy=\"2em\" fill=\"currentColor\" x=\"3650\">AUX</tspan>\n",
              "</text>\n",
              "\n",
              "<g class=\"displacy-arrow\">\n",
              "    <path class=\"displacy-arc\" id=\"arrow-6660bad0e5ea47a0a1ea58c614d8f958-0-0\" stroke-width=\"2px\" d=\"M62,302.0 62,277.0 191.0,277.0 191.0,302.0\" fill=\"none\" stroke=\"currentColor\"/>\n",
              "    <text dy=\"1.25em\" style=\"font-size: 0.8em; letter-spacing: 1px\">\n",
              "        <textPath xlink:href=\"#arrow-6660bad0e5ea47a0a1ea58c614d8f958-0-0\" class=\"displacy-label\" startOffset=\"50%\" side=\"left\" fill=\"currentColor\" text-anchor=\"middle\">nummod</textPath>\n",
              "    </text>\n",
              "    <path class=\"displacy-arrowhead\" d=\"M62,304.0 L58,296.0 66,296.0\" fill=\"currentColor\"/>\n",
              "</g>\n",
              "\n",
              "<g class=\"displacy-arrow\">\n",
              "    <path class=\"displacy-arc\" id=\"arrow-6660bad0e5ea47a0a1ea58c614d8f958-0-1\" stroke-width=\"2px\" d=\"M212,302.0 212,252.0 494.0,252.0 494.0,302.0\" fill=\"none\" stroke=\"currentColor\"/>\n",
              "    <text dy=\"1.25em\" style=\"font-size: 0.8em; letter-spacing: 1px\">\n",
              "        <textPath xlink:href=\"#arrow-6660bad0e5ea47a0a1ea58c614d8f958-0-1\" class=\"displacy-label\" startOffset=\"50%\" side=\"left\" fill=\"currentColor\" text-anchor=\"middle\">nmod</textPath>\n",
              "    </text>\n",
              "    <path class=\"displacy-arrowhead\" d=\"M212,304.0 L208,296.0 216,296.0\" fill=\"currentColor\"/>\n",
              "</g>\n",
              "\n",
              "<g class=\"displacy-arrow\">\n",
              "    <path class=\"displacy-arc\" id=\"arrow-6660bad0e5ea47a0a1ea58c614d8f958-0-2\" stroke-width=\"2px\" d=\"M212,302.0 212,277.0 341.0,277.0 341.0,302.0\" fill=\"none\" stroke=\"currentColor\"/>\n",
              "    <text dy=\"1.25em\" style=\"font-size: 0.8em; letter-spacing: 1px\">\n",
              "        <textPath xlink:href=\"#arrow-6660bad0e5ea47a0a1ea58c614d8f958-0-2\" class=\"displacy-label\" startOffset=\"50%\" side=\"left\" fill=\"currentColor\" text-anchor=\"middle\">case</textPath>\n",
              "    </text>\n",
              "    <path class=\"displacy-arrowhead\" d=\"M341.0,304.0 L345.0,296.0 337.0,296.0\" fill=\"currentColor\"/>\n",
              "</g>\n",
              "\n",
              "<g class=\"displacy-arrow\">\n",
              "    <path class=\"displacy-arc\" id=\"arrow-6660bad0e5ea47a0a1ea58c614d8f958-0-3\" stroke-width=\"2px\" d=\"M512,302.0 512,227.0 1097.0,227.0 1097.0,302.0\" fill=\"none\" stroke=\"currentColor\"/>\n",
              "    <text dy=\"1.25em\" style=\"font-size: 0.8em; letter-spacing: 1px\">\n",
              "        <textPath xlink:href=\"#arrow-6660bad0e5ea47a0a1ea58c614d8f958-0-3\" class=\"displacy-label\" startOffset=\"50%\" side=\"left\" fill=\"currentColor\" text-anchor=\"middle\">obl</textPath>\n",
              "    </text>\n",
              "    <path class=\"displacy-arrowhead\" d=\"M512,304.0 L508,296.0 516,296.0\" fill=\"currentColor\"/>\n",
              "</g>\n",
              "\n",
              "<g class=\"displacy-arrow\">\n",
              "    <path class=\"displacy-arc\" id=\"arrow-6660bad0e5ea47a0a1ea58c614d8f958-0-4\" stroke-width=\"2px\" d=\"M512,302.0 512,277.0 641.0,277.0 641.0,302.0\" fill=\"none\" stroke=\"currentColor\"/>\n",
              "    <text dy=\"1.25em\" style=\"font-size: 0.8em; letter-spacing: 1px\">\n",
              "        <textPath xlink:href=\"#arrow-6660bad0e5ea47a0a1ea58c614d8f958-0-4\" class=\"displacy-label\" startOffset=\"50%\" side=\"left\" fill=\"currentColor\" text-anchor=\"middle\">case</textPath>\n",
              "    </text>\n",
              "    <path class=\"displacy-arrowhead\" d=\"M641.0,304.0 L645.0,296.0 637.0,296.0\" fill=\"currentColor\"/>\n",
              "</g>\n",
              "\n",
              "<g class=\"displacy-arrow\">\n",
              "    <path class=\"displacy-arc\" id=\"arrow-6660bad0e5ea47a0a1ea58c614d8f958-0-5\" stroke-width=\"2px\" d=\"M812,302.0 812,252.0 1094.0,252.0 1094.0,302.0\" fill=\"none\" stroke=\"currentColor\"/>\n",
              "    <text dy=\"1.25em\" style=\"font-size: 0.8em; letter-spacing: 1px\">\n",
              "        <textPath xlink:href=\"#arrow-6660bad0e5ea47a0a1ea58c614d8f958-0-5\" class=\"displacy-label\" startOffset=\"50%\" side=\"left\" fill=\"currentColor\" text-anchor=\"middle\">iobj</textPath>\n",
              "    </text>\n",
              "    <path class=\"displacy-arrowhead\" d=\"M812,304.0 L808,296.0 816,296.0\" fill=\"currentColor\"/>\n",
              "</g>\n",
              "\n",
              "<g class=\"displacy-arrow\">\n",
              "    <path class=\"displacy-arc\" id=\"arrow-6660bad0e5ea47a0a1ea58c614d8f958-0-6\" stroke-width=\"2px\" d=\"M812,302.0 812,277.0 941.0,277.0 941.0,302.0\" fill=\"none\" stroke=\"currentColor\"/>\n",
              "    <text dy=\"1.25em\" style=\"font-size: 0.8em; letter-spacing: 1px\">\n",
              "        <textPath xlink:href=\"#arrow-6660bad0e5ea47a0a1ea58c614d8f958-0-6\" class=\"displacy-label\" startOffset=\"50%\" side=\"left\" fill=\"currentColor\" text-anchor=\"middle\">case</textPath>\n",
              "    </text>\n",
              "    <path class=\"displacy-arrowhead\" d=\"M941.0,304.0 L945.0,296.0 937.0,296.0\" fill=\"currentColor\"/>\n",
              "</g>\n",
              "\n",
              "<g class=\"displacy-arrow\">\n",
              "    <path class=\"displacy-arc\" id=\"arrow-6660bad0e5ea47a0a1ea58c614d8f958-0-7\" stroke-width=\"2px\" d=\"M1112,302.0 1112,277.0 1241.0,277.0 1241.0,302.0\" fill=\"none\" stroke=\"currentColor\"/>\n",
              "    <text dy=\"1.25em\" style=\"font-size: 0.8em; letter-spacing: 1px\">\n",
              "        <textPath xlink:href=\"#arrow-6660bad0e5ea47a0a1ea58c614d8f958-0-7\" class=\"displacy-label\" startOffset=\"50%\" side=\"left\" fill=\"currentColor\" text-anchor=\"middle\">aux</textPath>\n",
              "    </text>\n",
              "    <path class=\"displacy-arrowhead\" d=\"M1241.0,304.0 L1245.0,296.0 1237.0,296.0\" fill=\"currentColor\"/>\n",
              "</g>\n",
              "\n",
              "<g class=\"displacy-arrow\">\n",
              "    <path class=\"displacy-arc\" id=\"arrow-6660bad0e5ea47a0a1ea58c614d8f958-0-8\" stroke-width=\"2px\" d=\"M1412,302.0 1412,277.0 1541.0,277.0 1541.0,302.0\" fill=\"none\" stroke=\"currentColor\"/>\n",
              "    <text dy=\"1.25em\" style=\"font-size: 0.8em; letter-spacing: 1px\">\n",
              "        <textPath xlink:href=\"#arrow-6660bad0e5ea47a0a1ea58c614d8f958-0-8\" class=\"displacy-label\" startOffset=\"50%\" side=\"left\" fill=\"currentColor\" text-anchor=\"middle\">amod</textPath>\n",
              "    </text>\n",
              "    <path class=\"displacy-arrowhead\" d=\"M1412,304.0 L1408,296.0 1416,296.0\" fill=\"currentColor\"/>\n",
              "</g>\n",
              "\n",
              "<g class=\"displacy-arrow\">\n",
              "    <path class=\"displacy-arc\" id=\"arrow-6660bad0e5ea47a0a1ea58c614d8f958-0-9\" stroke-width=\"2px\" d=\"M1562,302.0 1562,202.0 2450.0,202.0 2450.0,302.0\" fill=\"none\" stroke=\"currentColor\"/>\n",
              "    <text dy=\"1.25em\" style=\"font-size: 0.8em; letter-spacing: 1px\">\n",
              "        <textPath xlink:href=\"#arrow-6660bad0e5ea47a0a1ea58c614d8f958-0-9\" class=\"displacy-label\" startOffset=\"50%\" side=\"left\" fill=\"currentColor\" text-anchor=\"middle\">nmod</textPath>\n",
              "    </text>\n",
              "    <path class=\"displacy-arrowhead\" d=\"M1562,304.0 L1558,296.0 1566,296.0\" fill=\"currentColor\"/>\n",
              "</g>\n",
              "\n",
              "<g class=\"displacy-arrow\">\n",
              "    <path class=\"displacy-arc\" id=\"arrow-6660bad0e5ea47a0a1ea58c614d8f958-0-10\" stroke-width=\"2px\" d=\"M1562,302.0 1562,277.0 1691.0,277.0 1691.0,302.0\" fill=\"none\" stroke=\"currentColor\"/>\n",
              "    <text dy=\"1.25em\" style=\"font-size: 0.8em; letter-spacing: 1px\">\n",
              "        <textPath xlink:href=\"#arrow-6660bad0e5ea47a0a1ea58c614d8f958-0-10\" class=\"displacy-label\" startOffset=\"50%\" side=\"left\" fill=\"currentColor\" text-anchor=\"middle\">case</textPath>\n",
              "    </text>\n",
              "    <path class=\"displacy-arrowhead\" d=\"M1691.0,304.0 L1695.0,296.0 1687.0,296.0\" fill=\"currentColor\"/>\n",
              "</g>\n",
              "\n",
              "<g class=\"displacy-arrow\">\n",
              "    <path class=\"displacy-arc\" id=\"arrow-6660bad0e5ea47a0a1ea58c614d8f958-0-11\" stroke-width=\"2px\" d=\"M1862,302.0 1862,252.0 2144.0,252.0 2144.0,302.0\" fill=\"none\" stroke=\"currentColor\"/>\n",
              "    <text dy=\"1.25em\" style=\"font-size: 0.8em; letter-spacing: 1px\">\n",
              "        <textPath xlink:href=\"#arrow-6660bad0e5ea47a0a1ea58c614d8f958-0-11\" class=\"displacy-label\" startOffset=\"50%\" side=\"left\" fill=\"currentColor\" text-anchor=\"middle\">compound</textPath>\n",
              "    </text>\n",
              "    <path class=\"displacy-arrowhead\" d=\"M1862,304.0 L1858,296.0 1866,296.0\" fill=\"currentColor\"/>\n",
              "</g>\n",
              "\n",
              "<g class=\"displacy-arrow\">\n",
              "    <path class=\"displacy-arc\" id=\"arrow-6660bad0e5ea47a0a1ea58c614d8f958-0-12\" stroke-width=\"2px\" d=\"M2012,302.0 2012,277.0 2141.0,277.0 2141.0,302.0\" fill=\"none\" stroke=\"currentColor\"/>\n",
              "    <text dy=\"1.25em\" style=\"font-size: 0.8em; letter-spacing: 1px\">\n",
              "        <textPath xlink:href=\"#arrow-6660bad0e5ea47a0a1ea58c614d8f958-0-12\" class=\"displacy-label\" startOffset=\"50%\" side=\"left\" fill=\"currentColor\" text-anchor=\"middle\">compound</textPath>\n",
              "    </text>\n",
              "    <path class=\"displacy-arrowhead\" d=\"M2012,304.0 L2008,296.0 2016,296.0\" fill=\"currentColor\"/>\n",
              "</g>\n",
              "\n",
              "<g class=\"displacy-arrow\">\n",
              "    <path class=\"displacy-arc\" id=\"arrow-6660bad0e5ea47a0a1ea58c614d8f958-0-13\" stroke-width=\"2px\" d=\"M2162,302.0 2162,252.0 2444.0,252.0 2444.0,302.0\" fill=\"none\" stroke=\"currentColor\"/>\n",
              "    <text dy=\"1.25em\" style=\"font-size: 0.8em; letter-spacing: 1px\">\n",
              "        <textPath xlink:href=\"#arrow-6660bad0e5ea47a0a1ea58c614d8f958-0-13\" class=\"displacy-label\" startOffset=\"50%\" side=\"left\" fill=\"currentColor\" text-anchor=\"middle\">nmod</textPath>\n",
              "    </text>\n",
              "    <path class=\"displacy-arrowhead\" d=\"M2162,304.0 L2158,296.0 2166,296.0\" fill=\"currentColor\"/>\n",
              "</g>\n",
              "\n",
              "<g class=\"displacy-arrow\">\n",
              "    <path class=\"displacy-arc\" id=\"arrow-6660bad0e5ea47a0a1ea58c614d8f958-0-14\" stroke-width=\"2px\" d=\"M2162,302.0 2162,277.0 2291.0,277.0 2291.0,302.0\" fill=\"none\" stroke=\"currentColor\"/>\n",
              "    <text dy=\"1.25em\" style=\"font-size: 0.8em; letter-spacing: 1px\">\n",
              "        <textPath xlink:href=\"#arrow-6660bad0e5ea47a0a1ea58c614d8f958-0-14\" class=\"displacy-label\" startOffset=\"50%\" side=\"left\" fill=\"currentColor\" text-anchor=\"middle\">case</textPath>\n",
              "    </text>\n",
              "    <path class=\"displacy-arrowhead\" d=\"M2291.0,304.0 L2295.0,296.0 2287.0,296.0\" fill=\"currentColor\"/>\n",
              "</g>\n",
              "\n",
              "<g class=\"displacy-arrow\">\n",
              "    <path class=\"displacy-arc\" id=\"arrow-6660bad0e5ea47a0a1ea58c614d8f958-0-15\" stroke-width=\"2px\" d=\"M2462,302.0 2462,227.0 3047.0,227.0 3047.0,302.0\" fill=\"none\" stroke=\"currentColor\"/>\n",
              "    <text dy=\"1.25em\" style=\"font-size: 0.8em; letter-spacing: 1px\">\n",
              "        <textPath xlink:href=\"#arrow-6660bad0e5ea47a0a1ea58c614d8f958-0-15\" class=\"displacy-label\" startOffset=\"50%\" side=\"left\" fill=\"currentColor\" text-anchor=\"middle\">nmod</textPath>\n",
              "    </text>\n",
              "    <path class=\"displacy-arrowhead\" d=\"M2462,304.0 L2458,296.0 2466,296.0\" fill=\"currentColor\"/>\n",
              "</g>\n",
              "\n",
              "<g class=\"displacy-arrow\">\n",
              "    <path class=\"displacy-arc\" id=\"arrow-6660bad0e5ea47a0a1ea58c614d8f958-0-16\" stroke-width=\"2px\" d=\"M2462,302.0 2462,277.0 2591.0,277.0 2591.0,302.0\" fill=\"none\" stroke=\"currentColor\"/>\n",
              "    <text dy=\"1.25em\" style=\"font-size: 0.8em; letter-spacing: 1px\">\n",
              "        <textPath xlink:href=\"#arrow-6660bad0e5ea47a0a1ea58c614d8f958-0-16\" class=\"displacy-label\" startOffset=\"50%\" side=\"left\" fill=\"currentColor\" text-anchor=\"middle\">case</textPath>\n",
              "    </text>\n",
              "    <path class=\"displacy-arrowhead\" d=\"M2591.0,304.0 L2595.0,296.0 2587.0,296.0\" fill=\"currentColor\"/>\n",
              "</g>\n",
              "\n",
              "<g class=\"displacy-arrow\">\n",
              "    <path class=\"displacy-arc\" id=\"arrow-6660bad0e5ea47a0a1ea58c614d8f958-0-17\" stroke-width=\"2px\" d=\"M2762,302.0 2762,252.0 3044.0,252.0 3044.0,302.0\" fill=\"none\" stroke=\"currentColor\"/>\n",
              "    <text dy=\"1.25em\" style=\"font-size: 0.8em; letter-spacing: 1px\">\n",
              "        <textPath xlink:href=\"#arrow-6660bad0e5ea47a0a1ea58c614d8f958-0-17\" class=\"displacy-label\" startOffset=\"50%\" side=\"left\" fill=\"currentColor\" text-anchor=\"middle\">obl</textPath>\n",
              "    </text>\n",
              "    <path class=\"displacy-arrowhead\" d=\"M2762,304.0 L2758,296.0 2766,296.0\" fill=\"currentColor\"/>\n",
              "</g>\n",
              "\n",
              "<g class=\"displacy-arrow\">\n",
              "    <path class=\"displacy-arc\" id=\"arrow-6660bad0e5ea47a0a1ea58c614d8f958-0-18\" stroke-width=\"2px\" d=\"M2762,302.0 2762,277.0 2891.0,277.0 2891.0,302.0\" fill=\"none\" stroke=\"currentColor\"/>\n",
              "    <text dy=\"1.25em\" style=\"font-size: 0.8em; letter-spacing: 1px\">\n",
              "        <textPath xlink:href=\"#arrow-6660bad0e5ea47a0a1ea58c614d8f958-0-18\" class=\"displacy-label\" startOffset=\"50%\" side=\"left\" fill=\"currentColor\" text-anchor=\"middle\">case</textPath>\n",
              "    </text>\n",
              "    <path class=\"displacy-arrowhead\" d=\"M2891.0,304.0 L2895.0,296.0 2887.0,296.0\" fill=\"currentColor\"/>\n",
              "</g>\n",
              "\n",
              "<g class=\"displacy-arrow\">\n",
              "    <path class=\"displacy-arc\" id=\"arrow-6660bad0e5ea47a0a1ea58c614d8f958-0-19\" stroke-width=\"2px\" d=\"M3062,302.0 3062,277.0 3191.0,277.0 3191.0,302.0\" fill=\"none\" stroke=\"currentColor\"/>\n",
              "    <text dy=\"1.25em\" style=\"font-size: 0.8em; letter-spacing: 1px\">\n",
              "        <textPath xlink:href=\"#arrow-6660bad0e5ea47a0a1ea58c614d8f958-0-19\" class=\"displacy-label\" startOffset=\"50%\" side=\"left\" fill=\"currentColor\" text-anchor=\"middle\">acl</textPath>\n",
              "    </text>\n",
              "    <path class=\"displacy-arrowhead\" d=\"M3062,304.0 L3058,296.0 3066,296.0\" fill=\"currentColor\"/>\n",
              "</g>\n",
              "\n",
              "<g class=\"displacy-arrow\">\n",
              "    <path class=\"displacy-arc\" id=\"arrow-6660bad0e5ea47a0a1ea58c614d8f958-0-20\" stroke-width=\"2px\" d=\"M3212,302.0 3212,252.0 3494.0,252.0 3494.0,302.0\" fill=\"none\" stroke=\"currentColor\"/>\n",
              "    <text dy=\"1.25em\" style=\"font-size: 0.8em; letter-spacing: 1px\">\n",
              "        <textPath xlink:href=\"#arrow-6660bad0e5ea47a0a1ea58c614d8f958-0-20\" class=\"displacy-label\" startOffset=\"50%\" side=\"left\" fill=\"currentColor\" text-anchor=\"middle\">obj</textPath>\n",
              "    </text>\n",
              "    <path class=\"displacy-arrowhead\" d=\"M3212,304.0 L3208,296.0 3216,296.0\" fill=\"currentColor\"/>\n",
              "</g>\n",
              "\n",
              "<g class=\"displacy-arrow\">\n",
              "    <path class=\"displacy-arc\" id=\"arrow-6660bad0e5ea47a0a1ea58c614d8f958-0-21\" stroke-width=\"2px\" d=\"M3212,302.0 3212,277.0 3341.0,277.0 3341.0,302.0\" fill=\"none\" stroke=\"currentColor\"/>\n",
              "    <text dy=\"1.25em\" style=\"font-size: 0.8em; letter-spacing: 1px\">\n",
              "        <textPath xlink:href=\"#arrow-6660bad0e5ea47a0a1ea58c614d8f958-0-21\" class=\"displacy-label\" startOffset=\"50%\" side=\"left\" fill=\"currentColor\" text-anchor=\"middle\">case</textPath>\n",
              "    </text>\n",
              "    <path class=\"displacy-arrowhead\" d=\"M3341.0,304.0 L3345.0,296.0 3337.0,296.0\" fill=\"currentColor\"/>\n",
              "</g>\n",
              "\n",
              "<g class=\"displacy-arrow\">\n",
              "    <path class=\"displacy-arc\" id=\"arrow-6660bad0e5ea47a0a1ea58c614d8f958-0-22\" stroke-width=\"2px\" d=\"M3512,302.0 3512,277.0 3641.0,277.0 3641.0,302.0\" fill=\"none\" stroke=\"currentColor\"/>\n",
              "    <text dy=\"1.25em\" style=\"font-size: 0.8em; letter-spacing: 1px\">\n",
              "        <textPath xlink:href=\"#arrow-6660bad0e5ea47a0a1ea58c614d8f958-0-22\" class=\"displacy-label\" startOffset=\"50%\" side=\"left\" fill=\"currentColor\" text-anchor=\"middle\">aux</textPath>\n",
              "    </text>\n",
              "    <path class=\"displacy-arrowhead\" d=\"M3641.0,304.0 L3645.0,296.0 3637.0,296.0\" fill=\"currentColor\"/>\n",
              "</g>\n",
              "</svg></span>"
            ],
            "text/plain": [
              "<IPython.core.display.HTML object>"
            ]
          },
          "metadata": {
            "tags": []
          }
        }
      ]
    },
    {
      "cell_type": "markdown",
      "metadata": {
        "id": "TJxT4MKSndSG",
        "colab_type": "text"
      },
      "source": [
        "次に、文章の類似度の計算をしましょう。"
      ]
    },
    {
      "cell_type": "code",
      "metadata": {
        "id": "4FyXHywHk7dY",
        "colab_type": "code",
        "colab": {
          "base_uri": "https://localhost:8080/",
          "height": 34
        },
        "outputId": "33c3ea0e-97fb-4eee-f5bc-85d89af1914b"
      },
      "source": [
        "doc3 = nlp(\"これまで様々なセミナーに参加してきましたが、個人的に一番満足できたセミナーでした。プログラミング関係に疎い私でも理解でき、逆にプログラミングに興味を持ち、自分でもプログラミングに携わりたい・作りたいと思いました。\")\n",
        "doc4 = nlp(\"難しいように見えますが仕組みは簡単につくれる環境があって誰でもできるところが素晴らしいと思いました。AIに関して全く知識が無く、漠然としていましたが、このセミナーを受けて少し霧が晴れた気がすると同時に、AIへの興味が強くなりました。\")\n",
        "\n",
        "doc3.similarity(doc4)"
      ],
      "execution_count": 14,
      "outputs": [
        {
          "output_type": "execute_result",
          "data": {
            "text/plain": [
              "0.9442715000977079"
            ]
          },
          "metadata": {
            "tags": []
          },
          "execution_count": 14
        }
      ]
    },
    {
      "cell_type": "markdown",
      "metadata": {
        "id": "7PCKBqcBnp3Y",
        "colab_type": "text"
      },
      "source": [
        "以上\n"
      ]
    }
  ]
}
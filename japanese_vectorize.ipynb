{
  "nbformat": 4,
  "nbformat_minor": 0,
  "metadata": {
    "kernelspec": {
      "name": "python3",
      "display_name": "Python 3"
    },
    "language_info": {
      "codemirror_mode": {
        "name": "ipython",
        "version": 3
      },
      "file_extension": ".py",
      "mimetype": "text/x-python",
      "name": "python",
      "nbconvert_exporter": "python",
      "pygments_lexer": "ipython3",
      "version": "3.7.4"
    },
    "colab": {
      "name": "japanese_vectorize.ipynb",
      "provenance": [],
      "collapsed_sections": [],
      "include_colab_link": true
    },
    "accelerator": "GPU"
  },
  "cells": [
    {
      "cell_type": "markdown",
      "metadata": {
        "id": "view-in-github",
        "colab_type": "text"
      },
      "source": [
        "<a href=\"https://colab.research.google.com/github/mashyko/NLP_BERT_Transformers/blob/master/japanese_vectorize.ipynb\" target=\"_parent\"><img src=\"https://colab.research.google.com/assets/colab-badge.svg\" alt=\"Open In Colab\"/></a>"
      ]
    },
    {
      "cell_type": "markdown",
      "metadata": {
        "id": "eN6uefvAag94",
        "colab_type": "text"
      },
      "source": [
        "# word2vec、fastTextを用いた日本語単語のベクトル表現の実装\n",
        "\n",
        "日本語の単語をword2vecもしくはfastTextを使用してベクトル化して、単語間の類似度を検証\n",
        "\n",
        "「つくりながら学ぶ! PyTorchによる発展ディープラーニング」（小川雄太郎、マイナビ出版 ）」で提供されているコードを使用させていただきました。"
      ]
    },
    {
      "cell_type": "markdown",
      "metadata": {
        "id": "_BxEUZI0ag9_",
        "colab_type": "text"
      },
      "source": [
        "\n",
        "使用するMecabおよびデータを用意します\n"
      ]
    },
    {
      "cell_type": "code",
      "metadata": {
        "id": "uxciiOwEP_mJ",
        "colab_type": "code",
        "outputId": "b64820e5-2922-4ab4-e353-5e511e415cfb",
        "colab": {
          "base_uri": "https://localhost:8080/",
          "height": 119
        }
      },
      "source": [
        "!apt-get -q -y install sudo file mecab libmecab-dev mecab-ipadic-utf8 git curl python-mecab > /dev/null\n",
        "!git clone --depth 1 https://github.com/neologd/mecab-ipadic-neologd.git > /dev/null \n",
        "!echo yes | mecab-ipadic-neologd/bin/install-mecab-ipadic-neologd -n > /dev/null 2>&1\n",
        "!pip install mecab-python3 > /dev/null"
      ],
      "execution_count": 1,
      "outputs": [
        {
          "output_type": "stream",
          "text": [
            "Cloning into 'mecab-ipadic-neologd'...\n",
            "remote: Enumerating objects: 75, done.\u001b[K\n",
            "remote: Counting objects:   1% (1/75)\u001b[K\rremote: Counting objects:   2% (2/75)\u001b[K\rremote: Counting objects:   4% (3/75)\u001b[K\rremote: Counting objects:   5% (4/75)\u001b[K\rremote: Counting objects:   6% (5/75)\u001b[K\rremote: Counting objects:   8% (6/75)\u001b[K\rremote: Counting objects:   9% (7/75)\u001b[K\rremote: Counting objects:  10% (8/75)\u001b[K\rremote: Counting objects:  12% (9/75)\u001b[K\rremote: Counting objects:  13% (10/75)\u001b[K\rremote: Counting objects:  14% (11/75)\u001b[K\rremote: Counting objects:  16% (12/75)\u001b[K\rremote: Counting objects:  17% (13/75)\u001b[K\rremote: Counting objects:  18% (14/75)\u001b[K\rremote: Counting objects:  20% (15/75)\u001b[K\rremote: Counting objects:  21% (16/75)\u001b[K\rremote: Counting objects:  22% (17/75)\u001b[K\rremote: Counting objects:  24% (18/75)\u001b[K\rremote: Counting objects:  25% (19/75)\u001b[K\rremote: Counting objects:  26% (20/75)\u001b[K\rremote: Counting objects:  28% (21/75)\u001b[K\rremote: Counting objects:  29% (22/75)\u001b[K\rremote: Counting objects:  30% (23/75)\u001b[K\rremote: Counting objects:  32% (24/75)\u001b[K\rremote: Counting objects:  33% (25/75)\u001b[K\rremote: Counting objects:  34% (26/75)\u001b[K\rremote: Counting objects:  36% (27/75)\u001b[K\rremote: Counting objects:  37% (28/75)\u001b[K\rremote: Counting objects:  38% (29/75)\u001b[K\rremote: Counting objects:  40% (30/75)\u001b[K\rremote: Counting objects:  41% (31/75)\u001b[K\rremote: Counting objects:  42% (32/75)\u001b[K\rremote: Counting objects:  44% (33/75)\u001b[K\rremote: Counting objects:  45% (34/75)\u001b[K\rremote: Counting objects:  46% (35/75)\u001b[K\rremote: Counting objects:  48% (36/75)\u001b[K\rremote: Counting objects:  49% (37/75)\u001b[K\rremote: Counting objects:  50% (38/75)\u001b[K\rremote: Counting objects:  52% (39/75)\u001b[K\rremote: Counting objects:  53% (40/75)\u001b[K\rremote: Counting objects:  54% (41/75)\u001b[K\rremote: Counting objects:  56% (42/75)\u001b[K\rremote: Counting objects:  57% (43/75)\u001b[K\rremote: Counting objects:  58% (44/75)\u001b[K\rremote: Counting objects:  60% (45/75)\u001b[K\rremote: Counting objects:  61% (46/75)\u001b[K\rremote: Counting objects:  62% (47/75)\u001b[K\rremote: Counting objects:  64% (48/75)\u001b[K\rremote: Counting objects:  65% (49/75)\u001b[K\rremote: Counting objects:  66% (50/75)\u001b[K\rremote: Counting objects:  68% (51/75)\u001b[K\rremote: Counting objects:  69% (52/75)\u001b[K\rremote: Counting objects:  70% (53/75)\u001b[K\rremote: Counting objects:  72% (54/75)\u001b[K\rremote: Counting objects:  73% (55/75)\u001b[K\rremote: Counting objects:  74% (56/75)\u001b[K\rremote: Counting objects:  76% (57/75)\u001b[K\rremote: Counting objects:  77% (58/75)\u001b[K\rremote: Counting objects:  78% (59/75)\u001b[K\rremote: Counting objects:  80% (60/75)\u001b[K\rremote: Counting objects:  81% (61/75)\u001b[K\rremote: Counting objects:  82% (62/75)\u001b[K\rremote: Counting objects:  84% (63/75)\u001b[K\rremote: Counting objects:  85% (64/75)\u001b[K\rremote: Counting objects:  86% (65/75)\u001b[K\rremote: Counting objects:  88% (66/75)\u001b[K\rremote: Counting objects:  89% (67/75)\u001b[K\rremote: Counting objects:  90% (68/75)\u001b[K\rremote: Counting objects:  92% (69/75)\u001b[K\rremote: Counting objects:  93% (70/75)\u001b[K\rremote: Counting objects:  94% (71/75)\u001b[K\rremote: Counting objects:  96% (72/75)\u001b[K\rremote: Counting objects:  97% (73/75)\u001b[K\rremote: Counting objects:  98% (74/75)\u001b[K\rremote: Counting objects: 100% (75/75)\u001b[K\rremote: Counting objects: 100% (75/75), done.\u001b[K\n",
            "remote: Compressing objects: 100% (74/74), done.\u001b[K\n",
            "remote: Total 75 (delta 5), reused 54 (delta 0), pack-reused 0\u001b[K\n",
            "Unpacking objects: 100% (75/75), done.\n"
          ],
          "name": "stdout"
        }
      ]
    },
    {
      "cell_type": "code",
      "metadata": {
        "id": "OdSgyo2RQBPV",
        "colab_type": "code",
        "outputId": "1de8bc16-d3a9-442a-f193-494d39f89272",
        "colab": {
          "base_uri": "https://localhost:8080/",
          "height": 34
        }
      },
      "source": [
        "!mecab-config --dicdir\n"
      ],
      "execution_count": 2,
      "outputs": [
        {
          "output_type": "stream",
          "text": [
            "/usr/lib/x86_64-linux-gnu/mecab/dic\n"
          ],
          "name": "stdout"
        }
      ]
    },
    {
      "cell_type": "code",
      "metadata": {
        "id": "j4UV2e2_QIbU",
        "colab_type": "code",
        "outputId": "141ac69e-0c31-42bb-ce12-4bba50cef6f3",
        "colab": {
          "base_uri": "https://localhost:8080/",
          "height": 289
        }
      },
      "source": [
        "!cat /etc/mecabrc"
      ],
      "execution_count": 3,
      "outputs": [
        {
          "output_type": "stream",
          "text": [
            ";\n",
            "; Configuration file of MeCab\n",
            ";\n",
            "; $Id: mecabrc.in,v 1.3 2006/05/29 15:36:08 taku-ku Exp $;\n",
            ";\n",
            "dicdir = /var/lib/mecab/dic/debian\n",
            "\n",
            "; userdic = /home/foo/bar/user.dic\n",
            "\n",
            "; output-format-type = wakati\n",
            "; input-buffer-size = 8192\n",
            "\n",
            "; node-format = %m\\n\n",
            "; bos-format = %S\\n\n",
            "; eos-format = EOS\\n\n",
            "\n"
          ],
          "name": "stdout"
        }
      ]
    },
    {
      "cell_type": "markdown",
      "metadata": {
        "id": "SpLIAg7Tag-A",
        "colab_type": "text"
      },
      "source": [
        "文書を読み込んで、分かち書き、データセット作成\n",
        "\n",
        "前処理と分かち書きをし、最後にデータセットを作成する部分を実装\n"
      ]
    },
    {
      "cell_type": "code",
      "metadata": {
        "id": "daJUwbguag-B",
        "colab_type": "code",
        "colab": {}
      },
      "source": [
        "# 単語分割にはMecab＋NEologdを使用\n",
        "import MeCab\n",
        "\n",
        "m_t = MeCab.Tagger('-Owakati -d /usr/lib/x86_64-linux-gnu/mecab/dic/mecab-ipadic-neologd')\n",
        "\n",
        "def tokenizer_mecab(text):\n",
        "    text = m_t.parse(text)  # これでスペースで単語が区切られる\n",
        "    ret = text.strip().split()  # スペース部分で区切ったリストに変換\n",
        "    return ret\n",
        "\n",
        "\n",
        "\n",
        "# 前処理として正規化をする関数を定義\n",
        "import re\n",
        "\n",
        "def preprocessing_text(text):\n",
        "    # 改行、半角スペース、全角スペースを削除\n",
        "    text = re.sub('\\r', '', text)\n",
        "    text = re.sub('\\n', '', text)\n",
        "    text = re.sub('　', '', text)\n",
        "    text = re.sub(' ', '', text)\n",
        "\n",
        "    # 数字文字の一律「0」化\n",
        "    text = re.sub(r'[0-9 ０-９]', '0', text)  # 数字\n",
        "\n",
        "    return text\n",
        "\n",
        "\n",
        "# 前処理とMecabの単語分割を合わせた関数を定義する\n",
        "\n",
        "\n",
        "def tokenizer_with_preprocessing(text):\n",
        "    text = preprocessing_text(text)  # 前処理の正規化\n",
        "    ret = tokenizer_mecab(text)  # Mecabの単語分割\n",
        "\n",
        "    return ret\n"
      ],
      "execution_count": 0,
      "outputs": []
    },
    {
      "cell_type": "code",
      "metadata": {
        "id": "t5d1A8LEQ2Lj",
        "colab_type": "code",
        "outputId": "adb9c459-21d0-4274-8a86-f6a285ec1823",
        "colab": {
          "base_uri": "https://localhost:8080/",
          "height": 122
        }
      },
      "source": [
        "from google.colab import drive\n",
        "drive.mount('/content/drive')"
      ],
      "execution_count": 5,
      "outputs": [
        {
          "output_type": "stream",
          "text": [
            "Go to this URL in a browser: https://accounts.google.com/o/oauth2/auth?client_id=947318989803-6bn6qk8qdgf4n4g3pfee6491hc0brc4i.apps.googleusercontent.com&redirect_uri=urn%3aietf%3awg%3aoauth%3a2.0%3aoob&response_type=code&scope=email%20https%3a%2f%2fwww.googleapis.com%2fauth%2fdocs.test%20https%3a%2f%2fwww.googleapis.com%2fauth%2fdrive%20https%3a%2f%2fwww.googleapis.com%2fauth%2fdrive.photos.readonly%20https%3a%2f%2fwww.googleapis.com%2fauth%2fpeopleapi.readonly\n",
            "\n",
            "Enter your authorization code:\n",
            "··········\n",
            "Mounted at /content/drive\n"
          ],
          "name": "stdout"
        }
      ]
    },
    {
      "cell_type": "code",
      "metadata": {
        "id": "sVZruqkMag-G",
        "colab_type": "code",
        "colab": {}
      },
      "source": [
        "import torchtext\n",
        "\n",
        "# tsvやcsvデータを読み込んだときに、読み込んだ内容に対して行う処理を定義します\n",
        "# 文章とラベルの両方に用意します\n",
        "\n",
        "max_length = 25\n",
        "TEXT = torchtext.data.Field(sequential=True, tokenize=tokenizer_with_preprocessing,\n",
        "                            use_vocab=True, lower=True, include_lengths=True, batch_first=True, fix_length=max_length)\n",
        "LABEL = torchtext.data.Field(sequential=False, use_vocab=False)\n",
        "\n",
        "\n",
        "# フォルダ「data」から各tsvファイルを読み込みます\n",
        "train_ds, val_ds, test_ds = torchtext.data.TabularDataset.splits(\n",
        "    path='/content/drive/My Drive/data/tsv/', train='train.tsv',\n",
        "    validation='val.tsv', test='test.tsv', format='tsv',\n",
        "    fields=[('Text', TEXT), ('Label', LABEL)])"
      ],
      "execution_count": 0,
      "outputs": []
    },
    {
      "cell_type": "markdown",
      "metadata": {
        "id": "Tsc7s6gQag-J",
        "colab_type": "text"
      },
      "source": [
        " 単語のベクトル化：word2vec \n",
        " "
      ]
    },
    {
      "cell_type": "markdown",
      "metadata": {
        "id": "Of_r3O9XYPqc",
        "colab_type": "text"
      },
      "source": [
        "以下の日本語のfasttextの学習済みベクトルをダウンロードします。\n",
        "\n",
        "https://www.nlp.ecei.tohoku.ac.jp/~m-suzuki/bert-japanese/BERT-base_mecab-ipadic-char-4k_whole-word-mask.tar.xz\n",
        "\n",
        "My Drive/data/に解凍・展開してください。\n",
        "\n",
        "url = \"http://www.cl.ecei.tohoku.ac.jp/~m-suzuki/jawiki_vector/data/20170201.tar.bz2\"\n",
        "\n",
        "save_path = \"/content/drive/My Drive/data/20170201.tar.bz2\"\n",
        "\n",
        "if not os.path.exists(save_path):\n",
        "\n",
        "    urllib.request.urlretrieve(url, save_path)\n",
        "\n",
        " tarファイルを読み込み\n",
        "\n",
        "tar = tarfile.open('/content/drive/My Drive/data/20170201.tar.bz2', 'r|bz2')\n",
        "\n",
        "tar.extractall('/content/drive/My Drive/data/')  # 解凍\n",
        "\n",
        "tar.close()  # ファイルをクローズ\n",
        "\n",
        "My Driveのフォルダ「data」内にフォルダ「entity_vector」というものができ、その中に「entity_vector.model.bin」というファイルができています。"
      ]
    },
    {
      "cell_type": "code",
      "metadata": {
        "id": "ZbJRtjAxevuO",
        "colab_type": "code",
        "outputId": "16a499f5-bb2f-4a28-fd13-5a8395777a57",
        "colab": {
          "base_uri": "https://localhost:8080/",
          "height": 326
        }
      },
      "source": [
        "# 事前インストール\n",
        "pip install gensim"
      ],
      "execution_count": 8,
      "outputs": [
        {
          "output_type": "stream",
          "text": [
            "Requirement already satisfied: gensim in /usr/local/lib/python3.6/dist-packages (3.6.0)\n",
            "Requirement already satisfied: smart-open>=1.2.1 in /usr/local/lib/python3.6/dist-packages (from gensim) (1.9.0)\n",
            "Requirement already satisfied: numpy>=1.11.3 in /usr/local/lib/python3.6/dist-packages (from gensim) (1.17.5)\n",
            "Requirement already satisfied: scipy>=0.18.1 in /usr/local/lib/python3.6/dist-packages (from gensim) (1.4.1)\n",
            "Requirement already satisfied: six>=1.5.0 in /usr/local/lib/python3.6/dist-packages (from gensim) (1.12.0)\n",
            "Requirement already satisfied: boto>=2.32 in /usr/local/lib/python3.6/dist-packages (from smart-open>=1.2.1->gensim) (2.49.0)\n",
            "Requirement already satisfied: boto3 in /usr/local/lib/python3.6/dist-packages (from smart-open>=1.2.1->gensim) (1.11.15)\n",
            "Requirement already satisfied: requests in /usr/local/lib/python3.6/dist-packages (from smart-open>=1.2.1->gensim) (2.21.0)\n",
            "Requirement already satisfied: s3transfer<0.4.0,>=0.3.0 in /usr/local/lib/python3.6/dist-packages (from boto3->smart-open>=1.2.1->gensim) (0.3.3)\n",
            "Requirement already satisfied: botocore<1.15.0,>=1.14.15 in /usr/local/lib/python3.6/dist-packages (from boto3->smart-open>=1.2.1->gensim) (1.14.15)\n",
            "Requirement already satisfied: jmespath<1.0.0,>=0.7.1 in /usr/local/lib/python3.6/dist-packages (from boto3->smart-open>=1.2.1->gensim) (0.9.4)\n",
            "Requirement already satisfied: certifi>=2017.4.17 in /usr/local/lib/python3.6/dist-packages (from requests->smart-open>=1.2.1->gensim) (2019.11.28)\n",
            "Requirement already satisfied: idna<2.9,>=2.5 in /usr/local/lib/python3.6/dist-packages (from requests->smart-open>=1.2.1->gensim) (2.8)\n",
            "Requirement already satisfied: chardet<3.1.0,>=3.0.2 in /usr/local/lib/python3.6/dist-packages (from requests->smart-open>=1.2.1->gensim) (3.0.4)\n",
            "Requirement already satisfied: urllib3<1.25,>=1.21.1 in /usr/local/lib/python3.6/dist-packages (from requests->smart-open>=1.2.1->gensim) (1.24.3)\n",
            "Requirement already satisfied: docutils<0.16,>=0.10 in /usr/local/lib/python3.6/dist-packages (from botocore<1.15.0,>=1.14.15->boto3->smart-open>=1.2.1->gensim) (0.15.2)\n",
            "Requirement already satisfied: python-dateutil<3.0.0,>=2.1 in /usr/local/lib/python3.6/dist-packages (from botocore<1.15.0,>=1.14.15->boto3->smart-open>=1.2.1->gensim) (2.6.1)\n"
          ],
          "name": "stdout"
        }
      ]
    },
    {
      "cell_type": "code",
      "metadata": {
        "id": "i1Ov9TB1ag-Q",
        "colab_type": "code",
        "outputId": "d4f97838-4ec0-4027-e029-1f5dee25ecc8",
        "colab": {
          "base_uri": "https://localhost:8080/",
          "height": 105
        }
      },
      "source": [
        "# そのままではtorchtextで読み込めないので、gensimライブラリを使用して、\n",
        "\n",
        "from gensim.models import KeyedVectors\n",
        "\n",
        "# 一度gensimライブラリで読み込んで、word2vecのformatで保存する\n",
        "model = KeyedVectors.load_word2vec_format(\n",
        "    '/content/drive/My Drive/data/entity_vector.model.bin', binary=True)\n",
        "\n",
        "# Word2Vecのformatで保存し直します\n",
        "\n",
        "#保存（時間がかかります、10分弱）\n",
        "model.wv.save_word2vec_format('./japanese_word2vec_vectors.vec')\n"
      ],
      "execution_count": 9,
      "outputs": [
        {
          "output_type": "stream",
          "text": [
            "/usr/local/lib/python3.6/dist-packages/smart_open/smart_open_lib.py:402: UserWarning: This function is deprecated, use smart_open.open instead. See the migration notes for details: https://github.com/RaRe-Technologies/smart_open/blob/master/README.rst#migrating-to-the-new-open-function\n",
            "  'See the migration notes for details: %s' % _MIGRATION_NOTES_URL\n",
            "/usr/local/lib/python3.6/dist-packages/ipykernel_launcher.py:11: DeprecationWarning: Call to deprecated `wv` (Attribute will be removed in 4.0.0, use self instead).\n",
            "  # This is added back by InteractiveShellApp.init_path()\n"
          ],
          "name": "stderr"
        }
      ]
    },
    {
      "cell_type": "code",
      "metadata": {
        "id": "9L0LItpGag-X",
        "colab_type": "code",
        "outputId": "adf0bc53-e4a0-4954-d540-4ee629d3b588",
        "colab": {
          "base_uri": "https://localhost:8080/",
          "height": 68
        }
      },
      "source": [
        "# torchtextで単語ベクトルとして読み込みます\n",
        "from torchtext.vocab import Vectors\n",
        "\n",
        "japanese_word2vec_vectors = Vectors(\n",
        "    name='./japanese_word2vec_vectors.vec')\n",
        "\n",
        "# 単語ベクトルの中身を確認します\n",
        "print(\"1単語を表現する次元数：\", japanese_word2vec_vectors.dim)\n",
        "print(\"単語数：\", len(japanese_word2vec_vectors.itos))\n"
      ],
      "execution_count": 10,
      "outputs": [
        {
          "output_type": "stream",
          "text": [
            "  0%|          | 0/1015474 [00:00<?, ?it/s]Skipping token b'1015474' with 1-dimensional vector [b'200']; likely a header\n",
            "100%|█████████▉| 1014952/1015474 [01:38<00:00, 9821.31it/s]"
          ],
          "name": "stderr"
        },
        {
          "output_type": "stream",
          "text": [
            "1単語を表現する次元数： 200\n",
            "単語数： 1015474\n"
          ],
          "name": "stdout"
        }
      ]
    },
    {
      "cell_type": "code",
      "metadata": {
        "id": "TFoP9b8Eag-a",
        "colab_type": "code",
        "outputId": "2b0d9ea3-2cbb-470c-e1b3-87aedecf1136",
        "colab": {
          "base_uri": "https://localhost:8080/",
          "height": 153
        }
      },
      "source": [
        "# ベクトル化したバージョンのボキャブラリーを作成します\n",
        "TEXT.build_vocab(train_ds, vectors=japanese_word2vec_vectors, min_freq=1)\n",
        "\n",
        "# ボキャブラリーのベクトルを確認します\n",
        "print(TEXT.vocab.vectors.shape)  # 49個の単語が200次元のベクトルで表現されている\n",
        "TEXT.vocab.vectors\n"
      ],
      "execution_count": 11,
      "outputs": [
        {
          "output_type": "stream",
          "text": [
            "torch.Size([73, 200])\n"
          ],
          "name": "stdout"
        },
        {
          "output_type": "execute_result",
          "data": {
            "text/plain": [
              "tensor([[ 0.0000,  0.0000,  0.0000,  ...,  0.0000,  0.0000,  0.0000],\n",
              "        [ 0.0000,  0.0000,  0.0000,  ...,  0.0000,  0.0000,  0.0000],\n",
              "        [-0.5917,  0.4508, -0.5694,  ...,  0.4193,  0.7276,  0.0932],\n",
              "        ...,\n",
              "        [ 0.0000,  0.0000,  0.0000,  ...,  0.0000,  0.0000,  0.0000],\n",
              "        [ 0.4007, -3.0376,  1.4939,  ..., -1.1628,  1.3272,  1.5678],\n",
              "        [-0.6148, -0.3318, -1.3326,  ..., -0.0495, -2.4379, -0.0824]])"
            ]
          },
          "metadata": {
            "tags": []
          },
          "execution_count": 11
        }
      ]
    },
    {
      "cell_type": "code",
      "metadata": {
        "id": "pBxn47ZAag-e",
        "colab_type": "code",
        "outputId": "36084c04-3664-466e-fb97-35542d5f1447",
        "colab": {
          "base_uri": "https://localhost:8080/",
          "height": 1000
        }
      },
      "source": [
        "# ボキャブラリーの単語の順番を確認します\n",
        "TEXT.vocab.stoi\n"
      ],
      "execution_count": 12,
      "outputs": [
        {
          "output_type": "execute_result",
          "data": {
            "text/plain": [
              "defaultdict(<function torchtext.vocab._default_unk_index>,\n",
              "            {'0': 29,\n",
              "             '<pad>': 1,\n",
              "             '<unk>': 0,\n",
              "             '、': 2,\n",
              "             '。': 4,\n",
              "             '「': 30,\n",
              "             '」': 31,\n",
              "             'ある': 16,\n",
              "             'い': 13,\n",
              "             'いる': 17,\n",
              "             'か': 18,\n",
              "             'が': 5,\n",
              "             'き': 32,\n",
              "             'この': 19,\n",
              "             'さ': 20,\n",
              "             'し': 14,\n",
              "             'しまう': 33,\n",
              "             'する': 21,\n",
              "             'その': 34,\n",
              "             'た': 15,\n",
              "             'て': 7,\n",
              "             'で': 22,\n",
              "             'でし': 35,\n",
              "             'と': 9,\n",
              "             'とても': 36,\n",
              "             'な': 10,\n",
              "             'に': 11,\n",
              "             'に対して': 37,\n",
              "             'の': 3,\n",
              "             'は': 6,\n",
              "             'まし': 23,\n",
              "             'ます': 24,\n",
              "             'れ': 25,\n",
              "             'を': 8,\n",
              "             'アニメ映画': 38,\n",
              "             'クラス': 39,\n",
              "             'ネガティブ': 40,\n",
              "             'ポジティブ': 41,\n",
              "             'モデル': 42,\n",
              "             'レビュー': 43,\n",
              "             '人工知能': 44,\n",
              "             '使用': 45,\n",
              "             '借り': 46,\n",
              "             '値': 47,\n",
              "             '分類': 26,\n",
              "             '化': 48,\n",
              "             '君の名は': 49,\n",
              "             '商品': 50,\n",
              "             '国': 51,\n",
              "             '基礎': 52,\n",
              "             '夫婦': 27,\n",
              "             '女性': 53,\n",
              "             '女王': 54,\n",
              "             '姫': 55,\n",
              "             '実用': 56,\n",
              "             '川': 57,\n",
              "             '文章': 12,\n",
              "             '映像': 58,\n",
              "             '村': 59,\n",
              "             '構築': 60,\n",
              "             '機械学習': 61,\n",
              "             '洗濯': 62,\n",
              "             '王': 63,\n",
              "             '王子': 64,\n",
              "             '男性': 65,\n",
              "             '短い': 66,\n",
              "             '綺麗': 67,\n",
              "             '自動車': 68,\n",
              "             '自動運転': 69,\n",
              "             '自動運転技術': 70,\n",
              "             '行き': 71,\n",
              "             '評価': 28,\n",
              "             '近年': 72})"
            ]
          },
          "metadata": {
            "tags": []
          },
          "execution_count": 12
        }
      ]
    },
    {
      "cell_type": "code",
      "metadata": {
        "id": "Pm8eiDDfag-i",
        "colab_type": "code",
        "outputId": "3905bb57-a7f7-4d75-ebd4-b5e7295c70d4",
        "colab": {
          "base_uri": "https://localhost:8080/",
          "height": 85
        }
      },
      "source": [
        "# 姫 - 女性 + 男性 のベクトルがどれと似ているのか確認してみます\n",
        "import torch.nn.functional as F\n",
        "\n",
        "# 姫 - 女性 + 男性\n",
        "tensor_calc = TEXT.vocab.vectors[55] - \\\n",
        "    TEXT.vocab.vectors[53] + TEXT.vocab.vectors[65]\n",
        "\n",
        "# コサイン類似度を計算\n",
        "# dim=0 は0次元目で計算してくださいという指定\n",
        "print(\"女王\", F.cosine_similarity(tensor_calc, TEXT.vocab.vectors[54], dim=0))\n",
        "print(\"王\", F.cosine_similarity(tensor_calc, TEXT.vocab.vectors[63], dim=0))\n",
        "print(\"王子\", F.cosine_similarity(tensor_calc, TEXT.vocab.vectors[64], dim=0))\n",
        "print(\"機械学習\", F.cosine_similarity(tensor_calc, TEXT.vocab.vectors[61], dim=0))\n"
      ],
      "execution_count": 13,
      "outputs": [
        {
          "output_type": "stream",
          "text": [
            "女王 tensor(0.3840)\n",
            "王 tensor(0.3669)\n",
            "王子 tensor(0.5489)\n",
            "機械学習 tensor(-0.1404)\n"
          ],
          "name": "stdout"
        }
      ]
    },
    {
      "cell_type": "markdown",
      "metadata": {
        "id": "6A1rCpqtag-o",
        "colab_type": "text"
      },
      "source": [
        "姫 - 女性 + 男性　を計算すると狙った通り、王子がもっとも近い結果になりました"
      ]
    },
    {
      "cell_type": "markdown",
      "metadata": {
        "id": "7neks16hag-q",
        "colab_type": "text"
      },
      "source": [
        "word2vecより進歩したベクトル化手法であるfastTextによる単語のベクトル表現を使用します。\n",
        "\n",
        "日本語の学習モデルを以下のサイトにて公開されているので、使用させていただきます。\n",
        "\n",
        "\n",
        "vector_neologd.zipのダウンロード\n",
        "https://drive.google.com/open?id=0ByFQ96A4DgSPUm9wVWRLdm5qbmc\n",
        "\n",
        "ダウンロードしたら、My Drive/vector_neologd に配置してください。"
      ]
    },
    {
      "cell_type": "code",
      "metadata": {
        "id": "7SSgCvSXag-u",
        "colab_type": "code",
        "outputId": "2db10e6e-bed6-465a-88d2-1dab7376afb6",
        "colab": {
          "base_uri": "https://localhost:8080/",
          "height": 1000
        }
      },
      "source": [
        "# torchtextで単語ベクトルとして読み込みます\n",
        "# word2vecとは異なり、すぐに読み込めます\n",
        "\n",
        "from torchtext.vocab import Vectors\n",
        "\n",
        "japanese_fasttext_vectors = Vectors(name='/content/drive/My Drive/data/vector_neologd/model.vec')\n",
        "\n",
        "                                    \n",
        "# 単語ベクトルの中身を確認します\n",
        "print(\"1単語を表現する次元数：\", japanese_fasttext_vectors.dim)\n",
        "print(\"単語数：\", len(japanese_fasttext_vectors.itos))\n"
      ],
      "execution_count": 14,
      "outputs": [
        {
          "output_type": "stream",
          "text": [
            "\n",
            "  0%|          | 0/351122 [00:00<?, ?it/s]\u001b[ASkipping token b'351122' with 1-dimensional vector [b'300']; likely a header\n",
            "\n",
            "  0%|          | 786/351122 [00:00<00:44, 7852.56it/s]\u001b[A\n",
            "  0%|          | 1507/351122 [00:00<00:45, 7640.12it/s]\u001b[A\n",
            "  1%|          | 2167/351122 [00:00<00:47, 7294.53it/s]\u001b[A\n",
            "  1%|          | 2925/351122 [00:00<00:47, 7376.21it/s]\u001b[A\n",
            "  1%|          | 3568/351122 [00:00<00:49, 7064.14it/s]\u001b[A\n",
            "  1%|          | 4340/351122 [00:00<00:47, 7248.03it/s]\u001b[A\n",
            "  1%|▏         | 5040/351122 [00:00<00:48, 7170.84it/s]\u001b[A\n",
            "  2%|▏         | 5769/351122 [00:00<00:47, 7204.17it/s]\u001b[A\n",
            "  2%|▏         | 6447/351122 [00:00<00:48, 7058.59it/s]\u001b[A\n",
            "  2%|▏         | 7192/351122 [00:01<00:47, 7171.15it/s]\u001b[A\n",
            "  2%|▏         | 7920/351122 [00:01<00:47, 7202.04it/s]\u001b[A\n",
            "  2%|▏         | 8696/351122 [00:01<00:46, 7360.02it/s]\u001b[A\n",
            "  3%|▎         | 9427/351122 [00:01<00:46, 7341.92it/s]\u001b[A\n",
            "  3%|▎         | 10168/351122 [00:01<00:46, 7362.12it/s]\u001b[A\n",
            "  3%|▎         | 10900/351122 [00:01<00:46, 7307.71it/s]\u001b[A\n",
            "  3%|▎         | 11667/351122 [00:01<00:45, 7411.53it/s]\u001b[A\n",
            "  4%|▎         | 12407/351122 [00:01<00:46, 7220.09it/s]\u001b[A\n",
            "  4%|▎         | 13138/351122 [00:01<00:46, 7243.56it/s]\u001b[A\n",
            "  4%|▍         | 13863/351122 [00:01<00:46, 7230.30it/s]\u001b[A\n",
            "  4%|▍         | 14630/351122 [00:02<00:45, 7356.52it/s]\u001b[A\n",
            "  4%|▍         | 15367/351122 [00:02<00:45, 7342.60it/s]\u001b[A\n",
            "  5%|▍         | 16109/351122 [00:02<00:45, 7364.51it/s]\u001b[A\n",
            "  5%|▍         | 16854/351122 [00:02<00:45, 7388.20it/s]\u001b[A\n",
            "  5%|▌         | 17594/351122 [00:02<00:45, 7355.73it/s]\u001b[A\n",
            "  5%|▌         | 18330/351122 [00:02<00:45, 7354.92it/s]\u001b[A\n",
            "  5%|▌         | 19114/351122 [00:02<00:44, 7492.59it/s]\u001b[A\n",
            "  6%|▌         | 19864/351122 [00:02<00:44, 7426.36it/s]\u001b[A\n",
            "  6%|▌         | 20639/351122 [00:02<00:43, 7518.37it/s]\u001b[A\n",
            "  6%|▌         | 21392/351122 [00:02<00:44, 7463.01it/s]\u001b[A\n",
            "  6%|▋         | 22159/351122 [00:03<00:43, 7521.90it/s]\u001b[A\n",
            "  7%|▋         | 22912/351122 [00:03<00:44, 7339.52it/s]\u001b[A\n",
            "  7%|▋         | 23648/351122 [00:03<00:44, 7293.87it/s]\u001b[A\n",
            "  7%|▋         | 24418/351122 [00:03<00:44, 7408.70it/s]\u001b[A\n",
            "  7%|▋         | 25161/351122 [00:03<00:45, 7197.00it/s]\u001b[A\n",
            "  7%|▋         | 25883/351122 [00:03<00:45, 7142.52it/s]\u001b[A\n",
            "  8%|▊         | 26606/351122 [00:03<00:45, 7166.44it/s]\u001b[A\n",
            "  8%|▊         | 27370/351122 [00:03<00:44, 7301.53it/s]\u001b[A\n",
            "  8%|▊         | 28110/351122 [00:03<00:44, 7330.48it/s]\u001b[A\n",
            "  8%|▊         | 28891/351122 [00:03<00:43, 7467.85it/s]\u001b[A\n",
            "  8%|▊         | 29640/351122 [00:04<00:43, 7464.61it/s]\u001b[A\n",
            "  9%|▊         | 30417/351122 [00:04<00:42, 7553.33it/s]\u001b[A\n",
            "  9%|▉         | 31174/351122 [00:04<00:43, 7428.13it/s]\u001b[A\n",
            "  9%|▉         | 31921/351122 [00:04<00:42, 7439.33it/s]\u001b[A\n",
            "  9%|▉         | 32666/351122 [00:04<00:43, 7336.99it/s]\u001b[A\n",
            " 10%|▉         | 33412/351122 [00:04<00:43, 7371.19it/s]\u001b[A\n",
            " 10%|▉         | 34171/351122 [00:04<00:42, 7434.91it/s]\u001b[A\n",
            " 10%|▉         | 34934/351122 [00:04<00:42, 7491.68it/s]\u001b[A\n",
            " 10%|█         | 35702/351122 [00:04<00:41, 7546.33it/s]\u001b[A\n",
            " 10%|█         | 36458/351122 [00:04<00:41, 7537.87it/s]\u001b[A\n",
            " 11%|█         | 37237/351122 [00:05<00:41, 7609.19it/s]\u001b[A\n",
            " 11%|█         | 37999/351122 [00:05<00:41, 7565.70it/s]\u001b[A\n",
            " 11%|█         | 38777/351122 [00:05<00:40, 7627.36it/s]\u001b[A\n",
            " 11%|█▏        | 39541/351122 [00:05<00:41, 7556.83it/s]\u001b[A\n",
            " 11%|█▏        | 40298/351122 [00:05<00:41, 7451.75it/s]\u001b[A\n",
            " 12%|█▏        | 41083/351122 [00:05<00:40, 7565.47it/s]\u001b[A\n",
            " 12%|█▏        | 41867/351122 [00:05<00:40, 7642.87it/s]\u001b[A\n",
            " 12%|█▏        | 42645/351122 [00:05<00:40, 7682.43it/s]\u001b[A\n",
            " 12%|█▏        | 43414/351122 [00:05<00:40, 7556.24it/s]\u001b[A\n",
            " 13%|█▎        | 44184/351122 [00:05<00:40, 7597.63it/s]\u001b[A\n",
            " 13%|█▎        | 44945/351122 [00:06<00:41, 7373.67it/s]\u001b[A\n",
            " 13%|█▎        | 45708/351122 [00:06<00:41, 7446.78it/s]\u001b[A\n",
            " 13%|█▎        | 46470/351122 [00:06<00:40, 7496.09it/s]\u001b[A\n",
            " 13%|█▎        | 47246/351122 [00:06<00:40, 7573.16it/s]\u001b[A\n",
            " 14%|█▎        | 48005/351122 [00:06<00:42, 7167.92it/s]\u001b[A\n",
            " 14%|█▍        | 48783/351122 [00:06<00:41, 7341.09it/s]\u001b[A\n",
            " 14%|█▍        | 49570/351122 [00:06<00:40, 7491.84it/s]\u001b[A\n",
            " 14%|█▍        | 50330/351122 [00:06<00:39, 7523.65it/s]\u001b[A\n",
            " 15%|█▍        | 51118/351122 [00:06<00:39, 7626.75it/s]\u001b[A\n",
            " 15%|█▍        | 51884/351122 [00:07<00:40, 7459.52it/s]\u001b[A\n",
            " 15%|█▍        | 52665/351122 [00:07<00:39, 7559.63it/s]\u001b[A\n",
            " 15%|█▌        | 53423/351122 [00:07<00:39, 7456.94it/s]\u001b[A\n",
            " 15%|█▌        | 54197/351122 [00:07<00:39, 7538.06it/s]\u001b[A\n",
            " 16%|█▌        | 54953/351122 [00:07<00:41, 7156.32it/s]\u001b[A\n",
            " 16%|█▌        | 55674/351122 [00:07<00:43, 6788.51it/s]\u001b[A\n",
            " 16%|█▌        | 56452/351122 [00:07<00:41, 7056.70it/s]\u001b[A\n",
            " 16%|█▋        | 57209/351122 [00:07<00:40, 7202.80it/s]\u001b[A\n",
            " 17%|█▋        | 57936/351122 [00:07<00:40, 7180.90it/s]\u001b[A\n",
            " 17%|█▋        | 58724/351122 [00:07<00:39, 7375.49it/s]\u001b[A\n",
            " 17%|█▋        | 59466/351122 [00:08<00:39, 7311.83it/s]\u001b[A\n",
            " 17%|█▋        | 60263/351122 [00:08<00:38, 7495.28it/s]\u001b[A\n",
            " 17%|█▋        | 61031/351122 [00:08<00:38, 7549.03it/s]\u001b[A\n",
            " 18%|█▊        | 61789/351122 [00:08<00:38, 7540.99it/s]\u001b[A\n",
            " 18%|█▊        | 62545/351122 [00:08<00:39, 7354.48it/s]\u001b[A\n",
            " 18%|█▊        | 63283/351122 [00:08<00:39, 7220.11it/s]\u001b[A\n",
            " 18%|█▊        | 64029/351122 [00:08<00:39, 7287.77it/s]\u001b[A\n",
            " 18%|█▊        | 64792/351122 [00:08<00:38, 7386.83it/s]\u001b[A\n",
            " 19%|█▊        | 65533/351122 [00:08<00:38, 7347.42it/s]\u001b[A\n",
            " 19%|█▉        | 66313/351122 [00:08<00:38, 7476.05it/s]\u001b[A\n",
            " 19%|█▉        | 67062/351122 [00:09<00:38, 7408.77it/s]\u001b[A\n",
            " 19%|█▉        | 67853/351122 [00:09<00:37, 7549.63it/s]\u001b[A\n",
            " 20%|█▉        | 68611/351122 [00:09<00:37, 7556.28it/s]\u001b[A\n",
            " 20%|█▉        | 69368/351122 [00:09<00:37, 7547.19it/s]\u001b[A\n",
            " 20%|█▉        | 70124/351122 [00:09<00:38, 7394.17it/s]\u001b[A\n",
            " 20%|██        | 70867/351122 [00:09<00:37, 7401.61it/s]\u001b[A\n",
            " 20%|██        | 71625/351122 [00:09<00:37, 7451.78it/s]\u001b[A\n",
            " 21%|██        | 72390/351122 [00:09<00:37, 7509.87it/s]\u001b[A\n",
            " 21%|██        | 73163/351122 [00:09<00:36, 7572.75it/s]\u001b[A\n",
            " 21%|██        | 73921/351122 [00:10<00:38, 7186.63it/s]\u001b[A\n",
            " 21%|██▏       | 74695/351122 [00:10<00:37, 7343.10it/s]\u001b[A\n",
            " 21%|██▏       | 75440/351122 [00:10<00:37, 7373.49it/s]\u001b[A\n",
            " 22%|██▏       | 76213/351122 [00:10<00:36, 7476.14it/s]\u001b[A\n",
            " 22%|██▏       | 76963/351122 [00:10<00:36, 7452.58it/s]\u001b[A\n",
            " 22%|██▏       | 77710/351122 [00:10<00:37, 7369.53it/s]\u001b[A\n",
            " 22%|██▏       | 78451/351122 [00:10<00:36, 7378.95it/s]\u001b[A\n",
            " 23%|██▎       | 79218/351122 [00:10<00:36, 7463.91it/s]\u001b[A\n",
            " 23%|██▎       | 79966/351122 [00:10<00:36, 7452.88it/s]\u001b[A\n",
            " 23%|██▎       | 80720/351122 [00:10<00:36, 7476.81it/s]\u001b[A\n",
            " 23%|██▎       | 81469/351122 [00:11<00:36, 7452.98it/s]\u001b[A\n",
            " 23%|██▎       | 82245/351122 [00:11<00:35, 7540.22it/s]\u001b[A\n",
            " 24%|██▎       | 83000/351122 [00:11<00:37, 7149.89it/s]\u001b[A\n",
            " 24%|██▍       | 83760/351122 [00:11<00:36, 7278.58it/s]\u001b[A\n",
            " 24%|██▍       | 84492/351122 [00:11<00:36, 7263.29it/s]\u001b[A\n",
            " 24%|██▍       | 85221/351122 [00:11<00:36, 7243.47it/s]\u001b[A\n",
            " 24%|██▍       | 85983/351122 [00:11<00:36, 7351.71it/s]\u001b[A\n",
            " 25%|██▍       | 86758/351122 [00:11<00:35, 7464.44it/s]\u001b[A\n",
            " 25%|██▍       | 87507/351122 [00:11<00:35, 7440.66it/s]\u001b[A\n",
            " 25%|██▌       | 88276/351122 [00:11<00:34, 7511.77it/s]\u001b[A\n",
            " 25%|██▌       | 89029/351122 [00:12<00:34, 7498.32it/s]\u001b[A\n",
            " 26%|██▌       | 89799/351122 [00:12<00:34, 7556.00it/s]\u001b[A\n",
            " 26%|██▌       | 90556/351122 [00:12<00:34, 7508.87it/s]\u001b[A\n",
            " 26%|██▌       | 91337/351122 [00:12<00:34, 7594.24it/s]\u001b[A\n",
            " 26%|██▌       | 92097/351122 [00:12<00:34, 7579.14it/s]\u001b[A\n",
            " 26%|██▋       | 92856/351122 [00:12<00:34, 7421.32it/s]\u001b[A\n",
            " 27%|██▋       | 93632/351122 [00:12<00:34, 7518.59it/s]\u001b[A\n",
            " 27%|██▋       | 94385/351122 [00:12<00:35, 7257.95it/s]\u001b[A\n",
            " 27%|██▋       | 95173/351122 [00:12<00:34, 7432.74it/s]\u001b[A\n",
            " 27%|██▋       | 95932/351122 [00:12<00:34, 7478.91it/s]\u001b[A\n",
            " 28%|██▊       | 96704/351122 [00:13<00:33, 7548.15it/s]\u001b[A\n",
            " 28%|██▊       | 97488/351122 [00:13<00:33, 7632.38it/s]\u001b[A\n",
            " 28%|██▊       | 98253/351122 [00:13<00:33, 7624.24it/s]\u001b[A\n",
            " 28%|██▊       | 99017/351122 [00:13<00:33, 7597.83it/s]\u001b[A\n",
            " 28%|██▊       | 99778/351122 [00:13<00:33, 7510.50it/s]\u001b[A\n",
            " 29%|██▊       | 100530/351122 [00:13<00:33, 7383.03it/s]\u001b[A\n",
            " 29%|██▉       | 101270/351122 [00:13<00:33, 7351.79it/s]\u001b[A\n",
            " 29%|██▉       | 102045/351122 [00:13<00:33, 7465.65it/s]\u001b[A\n",
            " 29%|██▉       | 102793/351122 [00:13<00:33, 7412.15it/s]\u001b[A\n",
            " 29%|██▉       | 103538/351122 [00:13<00:33, 7421.78it/s]\u001b[A\n",
            " 30%|██▉       | 104281/351122 [00:14<00:33, 7366.95it/s]\u001b[A\n",
            " 30%|██▉       | 105051/351122 [00:14<00:32, 7462.92it/s]\u001b[A\n",
            " 30%|███       | 105830/351122 [00:14<00:32, 7557.48it/s]\u001b[A\n",
            " 30%|███       | 106587/351122 [00:14<00:34, 7171.79it/s]\u001b[A\n",
            " 31%|███       | 107379/351122 [00:14<00:33, 7380.94it/s]\u001b[A\n",
            " 31%|███       | 108122/351122 [00:14<00:34, 7125.00it/s]\u001b[A\n",
            " 31%|███       | 108863/351122 [00:14<00:33, 7206.95it/s]\u001b[A\n",
            " 31%|███       | 109606/351122 [00:14<00:33, 7271.65it/s]\u001b[A\n",
            " 31%|███▏      | 110375/351122 [00:14<00:32, 7391.06it/s]\u001b[A\n",
            " 32%|███▏      | 111117/351122 [00:15<00:32, 7393.16it/s]\u001b[A\n",
            " 32%|███▏      | 111909/351122 [00:15<00:31, 7541.93it/s]\u001b[A\n",
            " 32%|███▏      | 112666/351122 [00:15<00:31, 7498.17it/s]\u001b[A\n",
            " 32%|███▏      | 113456/351122 [00:15<00:31, 7613.63it/s]\u001b[A\n",
            " 33%|███▎      | 114219/351122 [00:15<00:32, 7299.32it/s]\u001b[A\n",
            " 33%|███▎      | 114957/351122 [00:15<00:32, 7322.12it/s]\u001b[A\n",
            " 33%|███▎      | 115692/351122 [00:15<00:32, 7292.54it/s]\u001b[A\n",
            " 33%|███▎      | 116431/351122 [00:15<00:32, 7320.88it/s]\u001b[A\n",
            " 33%|███▎      | 117198/351122 [00:15<00:31, 7420.98it/s]\u001b[A\n",
            " 34%|███▎      | 117948/351122 [00:15<00:31, 7441.27it/s]\u001b[A\n",
            " 34%|███▍      | 118728/351122 [00:16<00:30, 7545.11it/s]\u001b[A\n",
            " 34%|███▍      | 119484/351122 [00:16<00:30, 7526.82it/s]\u001b[A\n",
            " 34%|███▍      | 120255/351122 [00:16<00:30, 7579.02it/s]\u001b[A\n",
            " 34%|███▍      | 121014/351122 [00:16<00:30, 7494.08it/s]\u001b[A\n",
            " 35%|███▍      | 121771/351122 [00:16<00:30, 7515.87it/s]\u001b[A\n",
            " 35%|███▍      | 122524/351122 [00:16<00:31, 7244.72it/s]\u001b[A\n",
            " 35%|███▌      | 123251/351122 [00:16<00:31, 7234.31it/s]\u001b[A\n",
            " 35%|███▌      | 123992/351122 [00:16<00:31, 7284.81it/s]\u001b[A\n",
            " 36%|███▌      | 124722/351122 [00:16<00:31, 7239.80it/s]\u001b[A\n",
            " 36%|███▌      | 125462/351122 [00:16<00:30, 7286.01it/s]\u001b[A\n",
            " 36%|███▌      | 126192/351122 [00:17<00:30, 7286.75it/s]\u001b[A\n",
            " 36%|███▌      | 126964/351122 [00:17<00:30, 7410.46it/s]\u001b[A\n",
            " 36%|███▋      | 127706/351122 [00:17<00:30, 7225.32it/s]\u001b[A\n",
            " 37%|███▋      | 128431/351122 [00:17<00:31, 7047.65it/s]\u001b[A\n",
            " 37%|███▋      | 129145/351122 [00:17<00:31, 7073.00it/s]\u001b[A\n",
            " 37%|███▋      | 129903/351122 [00:17<00:30, 7215.72it/s]\u001b[A\n",
            " 37%|███▋      | 130627/351122 [00:17<00:30, 7128.92it/s]\u001b[A\n",
            " 37%|███▋      | 131342/351122 [00:17<00:31, 6986.80it/s]\u001b[A\n",
            " 38%|███▊      | 132043/351122 [00:17<00:31, 6876.36it/s]\u001b[A\n",
            " 38%|███▊      | 132833/351122 [00:17<00:30, 7153.80it/s]\u001b[A\n",
            " 38%|███▊      | 133613/351122 [00:18<00:29, 7334.72it/s]\u001b[A\n",
            " 38%|███▊      | 134371/351122 [00:18<00:29, 7405.34it/s]\u001b[A\n",
            " 38%|███▊      | 135115/351122 [00:18<00:29, 7390.37it/s]\u001b[A\n",
            " 39%|███▊      | 135857/351122 [00:18<00:29, 7301.68it/s]\u001b[A\n",
            " 39%|███▉      | 136593/351122 [00:18<00:29, 7317.59it/s]\u001b[A\n",
            " 39%|███▉      | 137326/351122 [00:18<00:29, 7200.10it/s]\u001b[A\n",
            " 39%|███▉      | 138048/351122 [00:18<00:30, 7082.86it/s]\u001b[A\n",
            " 40%|███▉      | 138772/351122 [00:18<00:29, 7128.18it/s]\u001b[A\n",
            " 40%|███▉      | 139486/351122 [00:18<00:30, 7012.22it/s]\u001b[A\n",
            " 40%|███▉      | 140238/351122 [00:19<00:29, 7155.78it/s]\u001b[A\n",
            " 40%|████      | 141004/351122 [00:19<00:28, 7299.02it/s]\u001b[A\n",
            " 40%|████      | 141791/351122 [00:19<00:28, 7460.58it/s]\u001b[A\n",
            " 41%|████      | 142540/351122 [00:19<00:28, 7230.61it/s]\u001b[A\n",
            " 41%|████      | 143283/351122 [00:19<00:28, 7289.23it/s]\u001b[A\n",
            " 41%|████      | 144031/351122 [00:19<00:28, 7343.50it/s]\u001b[A\n",
            " 41%|████      | 144809/351122 [00:19<00:27, 7467.17it/s]\u001b[A\n",
            " 41%|████▏     | 145558/351122 [00:19<00:28, 7259.66it/s]\u001b[A\n",
            " 42%|████▏     | 146311/351122 [00:19<00:27, 7336.77it/s]\u001b[A\n",
            " 42%|████▏     | 147047/351122 [00:19<00:27, 7331.91it/s]\u001b[A\n",
            " 42%|████▏     | 147831/351122 [00:20<00:27, 7476.88it/s]\u001b[A\n",
            " 42%|████▏     | 148588/351122 [00:20<00:26, 7503.46it/s]\u001b[A\n",
            " 43%|████▎     | 149352/351122 [00:20<00:26, 7542.35it/s]\u001b[A\n",
            " 43%|████▎     | 150124/351122 [00:20<00:26, 7593.71it/s]\u001b[A\n",
            " 43%|████▎     | 150885/351122 [00:20<00:26, 7480.10it/s]\u001b[A\n",
            " 43%|████▎     | 151634/351122 [00:20<00:26, 7400.93it/s]\u001b[A\n",
            " 43%|████▎     | 152375/351122 [00:20<00:27, 7333.59it/s]\u001b[A\n",
            " 44%|████▎     | 153110/351122 [00:20<00:27, 7277.47it/s]\u001b[A\n",
            " 44%|████▍     | 153860/351122 [00:20<00:26, 7340.45it/s]\u001b[A\n",
            " 44%|████▍     | 154646/351122 [00:20<00:26, 7486.70it/s]\u001b[A\n",
            " 44%|████▍     | 155427/351122 [00:21<00:25, 7579.74it/s]\u001b[A\n",
            " 44%|████▍     | 156187/351122 [00:21<00:25, 7547.89it/s]\u001b[A\n",
            " 45%|████▍     | 156963/351122 [00:21<00:25, 7608.29it/s]\u001b[A\n",
            " 45%|████▍     | 157725/351122 [00:21<00:25, 7541.47it/s]\u001b[A\n",
            " 45%|████▌     | 158493/351122 [00:21<00:25, 7579.82it/s]\u001b[A\n",
            " 45%|████▌     | 159252/351122 [00:21<00:25, 7546.41it/s]\u001b[A\n",
            " 46%|████▌     | 160031/351122 [00:21<00:25, 7616.54it/s]\u001b[A\n",
            " 46%|████▌     | 160794/351122 [00:21<00:25, 7486.91it/s]\u001b[A\n",
            " 46%|████▌     | 161577/351122 [00:21<00:24, 7584.63it/s]\u001b[A\n",
            " 46%|████▌     | 162376/351122 [00:21<00:24, 7699.74it/s]\u001b[A\n",
            " 46%|████▋     | 163147/351122 [00:22<00:24, 7679.88it/s]\u001b[A\n",
            " 47%|████▋     | 163937/351122 [00:22<00:24, 7741.55it/s]\u001b[A\n",
            " 47%|████▋     | 164728/351122 [00:22<00:23, 7790.83it/s]\u001b[A\n",
            " 47%|████▋     | 165508/351122 [00:22<00:24, 7664.35it/s]\u001b[A\n",
            " 47%|████▋     | 166294/351122 [00:22<00:23, 7720.61it/s]\u001b[A\n",
            " 48%|████▊     | 167067/351122 [00:22<00:24, 7472.20it/s]\u001b[A\n",
            " 48%|████▊     | 167841/351122 [00:22<00:24, 7549.01it/s]\u001b[A\n",
            " 48%|████▊     | 168598/351122 [00:22<00:24, 7360.18it/s]\u001b[A\n",
            " 48%|████▊     | 169389/351122 [00:22<00:24, 7516.58it/s]\u001b[A\n",
            " 48%|████▊     | 170148/351122 [00:22<00:24, 7538.30it/s]\u001b[A\n",
            " 49%|████▊     | 170929/351122 [00:23<00:23, 7616.97it/s]\u001b[A\n",
            " 49%|████▉     | 171693/351122 [00:23<00:23, 7551.97it/s]\u001b[A\n",
            " 49%|████▉     | 172451/351122 [00:23<00:23, 7556.61it/s]\u001b[A\n",
            " 49%|████▉     | 173230/351122 [00:23<00:23, 7625.06it/s]\u001b[A\n",
            " 50%|████▉     | 174027/351122 [00:23<00:22, 7723.51it/s]\u001b[A\n",
            " 50%|████▉     | 174801/351122 [00:23<00:23, 7652.68it/s]\u001b[A\n",
            " 50%|█████     | 175579/351122 [00:23<00:22, 7690.04it/s]\u001b[A\n",
            " 50%|█████     | 176349/351122 [00:23<00:23, 7430.43it/s]\u001b[A\n",
            " 50%|█████     | 177095/351122 [00:23<00:23, 7390.34it/s]\u001b[A\n",
            " 51%|█████     | 177836/351122 [00:24<00:23, 7266.79it/s]\u001b[A\n",
            " 51%|█████     | 178618/351122 [00:24<00:23, 7423.73it/s]\u001b[A\n",
            " 51%|█████     | 179379/351122 [00:24<00:22, 7476.85it/s]\u001b[A\n",
            " 51%|█████▏    | 180176/351122 [00:24<00:22, 7616.31it/s]\u001b[A\n",
            " 52%|█████▏    | 180940/351122 [00:24<00:22, 7560.73it/s]\u001b[A\n",
            " 52%|█████▏    | 181746/351122 [00:24<00:21, 7703.58it/s]\u001b[A\n",
            " 52%|█████▏    | 182518/351122 [00:24<00:22, 7643.46it/s]\u001b[A\n",
            " 52%|█████▏    | 183301/351122 [00:24<00:21, 7696.99it/s]\u001b[A\n",
            " 52%|█████▏    | 184072/351122 [00:24<00:22, 7514.02it/s]\u001b[A\n",
            " 53%|█████▎    | 184837/351122 [00:24<00:22, 7554.07it/s]\u001b[A\n",
            " 53%|█████▎    | 185594/351122 [00:25<00:22, 7276.06it/s]\u001b[A\n",
            " 53%|█████▎    | 186325/351122 [00:25<00:22, 7284.65it/s]\u001b[A\n",
            " 53%|█████▎    | 187104/351122 [00:25<00:22, 7427.57it/s]\u001b[A\n",
            " 53%|█████▎    | 187849/351122 [00:25<00:21, 7432.20it/s]\u001b[A\n",
            " 54%|█████▎    | 188639/351122 [00:25<00:21, 7566.56it/s]\u001b[A\n",
            " 54%|█████▍    | 189417/351122 [00:25<00:21, 7627.23it/s]\u001b[A\n",
            " 54%|█████▍    | 190226/351122 [00:25<00:20, 7759.76it/s]\u001b[A\n",
            " 54%|█████▍    | 191004/351122 [00:25<00:20, 7652.43it/s]\u001b[A\n",
            " 55%|█████▍    | 191771/351122 [00:25<00:21, 7439.25it/s]\u001b[A\n",
            " 55%|█████▍    | 192549/351122 [00:25<00:21, 7538.12it/s]\u001b[A\n",
            " 55%|█████▌    | 193305/351122 [00:26<00:20, 7520.64it/s]\u001b[A\n",
            " 55%|█████▌    | 194077/351122 [00:26<00:20, 7576.64it/s]\u001b[A\n",
            " 55%|█████▌    | 194836/351122 [00:26<00:21, 7430.43it/s]\u001b[A\n",
            " 56%|█████▌    | 195589/351122 [00:26<00:20, 7458.95it/s]\u001b[A\n",
            " 56%|█████▌    | 196339/351122 [00:26<00:20, 7471.19it/s]\u001b[A\n",
            " 56%|█████▌    | 197130/351122 [00:26<00:20, 7596.40it/s]\u001b[A\n",
            " 56%|█████▋    | 197891/351122 [00:26<00:20, 7574.81it/s]\u001b[A\n",
            " 57%|█████▋    | 198677/351122 [00:26<00:19, 7656.36it/s]\u001b[A\n",
            " 57%|█████▋    | 199444/351122 [00:26<00:21, 7140.59it/s]\u001b[A\n",
            " 57%|█████▋    | 200215/351122 [00:26<00:20, 7301.39it/s]\u001b[A\n",
            " 57%|█████▋    | 200952/351122 [00:27<00:20, 7223.38it/s]\u001b[A\n",
            " 57%|█████▋    | 201695/351122 [00:27<00:20, 7281.95it/s]\u001b[A\n",
            " 58%|█████▊    | 202443/351122 [00:27<00:20, 7339.57it/s]\u001b[A\n",
            " 58%|█████▊    | 203201/351122 [00:27<00:19, 7406.27it/s]\u001b[A\n",
            " 58%|█████▊    | 203944/351122 [00:27<00:20, 7095.82it/s]\u001b[A\n",
            " 58%|█████▊    | 204658/351122 [00:27<00:20, 7002.97it/s]\u001b[A\n",
            " 59%|█████▊    | 205430/351122 [00:27<00:20, 7202.85it/s]\u001b[A\n",
            " 59%|█████▊    | 206163/351122 [00:27<00:20, 7237.12it/s]\u001b[A\n",
            " 59%|█████▉    | 206920/351122 [00:27<00:19, 7333.56it/s]\u001b[A\n",
            " 59%|█████▉    | 207696/351122 [00:28<00:19, 7454.52it/s]\u001b[A\n",
            " 59%|█████▉    | 208465/351122 [00:28<00:18, 7523.26it/s]\u001b[A\n",
            " 60%|█████▉    | 209219/351122 [00:28<00:19, 7335.70it/s]\u001b[A\n",
            " 60%|█████▉    | 209955/351122 [00:28<00:19, 7071.35it/s]\u001b[A\n",
            " 60%|█████▉    | 210669/351122 [00:28<00:19, 7089.98it/s]\u001b[A\n",
            " 60%|██████    | 211381/351122 [00:28<00:19, 7048.36it/s]\u001b[A\n",
            " 60%|██████    | 212159/351122 [00:28<00:19, 7251.39it/s]\u001b[A\n",
            " 61%|██████    | 212887/351122 [00:28<00:19, 7172.26it/s]\u001b[A\n",
            " 61%|██████    | 213607/351122 [00:28<00:19, 7131.13it/s]\u001b[A\n",
            " 61%|██████    | 214351/351122 [00:28<00:18, 7218.91it/s]\u001b[A\n",
            " 61%|██████▏   | 215080/351122 [00:29<00:18, 7238.33it/s]\u001b[A\n",
            " 61%|██████▏   | 215849/351122 [00:29<00:18, 7364.02it/s]\u001b[A\n",
            " 62%|██████▏   | 216590/351122 [00:29<00:18, 7376.47it/s]\u001b[A\n",
            " 62%|██████▏   | 217334/351122 [00:29<00:18, 7393.35it/s]\u001b[A\n",
            " 62%|██████▏   | 218105/351122 [00:29<00:17, 7484.30it/s]\u001b[A\n",
            " 62%|██████▏   | 218855/351122 [00:29<00:17, 7384.71it/s]\u001b[A\n",
            " 63%|██████▎   | 219627/351122 [00:29<00:17, 7479.72it/s]\u001b[A\n",
            " 63%|██████▎   | 220376/351122 [00:29<00:17, 7315.27it/s]\u001b[A\n",
            " 63%|██████▎   | 221120/351122 [00:29<00:17, 7348.60it/s]\u001b[A\n",
            " 63%|██████▎   | 221856/351122 [00:29<00:18, 7144.33it/s]\u001b[A\n",
            " 63%|██████▎   | 222614/351122 [00:30<00:17, 7267.51it/s]\u001b[A\n",
            " 64%|██████▎   | 223358/351122 [00:30<00:17, 7317.89it/s]\u001b[A\n",
            " 64%|██████▍   | 224120/351122 [00:30<00:17, 7405.39it/s]\u001b[A\n",
            " 64%|██████▍   | 224862/351122 [00:30<00:17, 7270.69it/s]\u001b[A\n",
            " 64%|██████▍   | 225632/351122 [00:30<00:16, 7393.34it/s]\u001b[A\n",
            " 64%|██████▍   | 226405/351122 [00:30<00:16, 7489.73it/s]\u001b[A\n",
            " 65%|██████▍   | 227156/351122 [00:30<00:16, 7487.82it/s]\u001b[A\n",
            " 65%|██████▍   | 227928/351122 [00:30<00:16, 7553.38it/s]\u001b[A\n",
            " 65%|██████▌   | 228685/351122 [00:30<00:16, 7451.10it/s]\u001b[A\n",
            " 65%|██████▌   | 229431/351122 [00:30<00:16, 7451.36it/s]\u001b[A\n",
            " 66%|██████▌   | 230177/351122 [00:31<00:16, 7453.05it/s]\u001b[A\n",
            " 66%|██████▌   | 230972/351122 [00:31<00:15, 7594.52it/s]\u001b[A\n",
            " 66%|██████▌   | 231733/351122 [00:31<00:16, 7316.15it/s]\u001b[A\n",
            " 66%|██████▌   | 232516/351122 [00:31<00:15, 7462.48it/s]\u001b[A\n",
            " 66%|██████▋   | 233265/351122 [00:31<00:15, 7421.38it/s]\u001b[A\n",
            " 67%|██████▋   | 234035/351122 [00:31<00:15, 7501.18it/s]\u001b[A\n",
            " 67%|██████▋   | 234789/351122 [00:31<00:15, 7511.18it/s]\u001b[A\n",
            " 67%|██████▋   | 235566/351122 [00:31<00:15, 7586.47it/s]\u001b[A\n",
            " 67%|██████▋   | 236326/351122 [00:31<00:15, 7525.05it/s]\u001b[A\n",
            " 68%|██████▊   | 237080/351122 [00:32<00:15, 7346.51it/s]\u001b[A\n",
            " 68%|██████▊   | 237822/351122 [00:32<00:15, 7366.87it/s]\u001b[A\n",
            " 68%|██████▊   | 238560/351122 [00:32<00:15, 7233.57it/s]\u001b[A\n",
            " 68%|██████▊   | 239333/351122 [00:32<00:15, 7375.10it/s]\u001b[A\n",
            " 68%|██████▊   | 240073/351122 [00:32<00:15, 7265.79it/s]\u001b[A\n",
            " 69%|██████▊   | 240828/351122 [00:32<00:15, 7348.26it/s]\u001b[A\n",
            " 69%|██████▉   | 241587/351122 [00:32<00:14, 7417.16it/s]\u001b[A\n",
            " 69%|██████▉   | 242374/351122 [00:32<00:14, 7545.75it/s]\u001b[A\n",
            " 69%|██████▉   | 243130/351122 [00:32<00:14, 7511.51it/s]\u001b[A\n",
            " 69%|██████▉   | 243907/351122 [00:32<00:14, 7585.69it/s]\u001b[A\n",
            " 70%|██████▉   | 244667/351122 [00:33<00:14, 7426.06it/s]\u001b[A\n",
            " 70%|██████▉   | 245411/351122 [00:33<00:14, 7429.91it/s]\u001b[A\n",
            " 70%|███████   | 246192/351122 [00:33<00:13, 7538.87it/s]\u001b[A\n",
            " 70%|███████   | 246947/351122 [00:33<00:13, 7492.67it/s]\u001b[A\n",
            " 71%|███████   | 247720/351122 [00:33<00:13, 7560.88it/s]\u001b[A\n",
            " 71%|███████   | 248477/351122 [00:33<00:14, 7239.85it/s]\u001b[A\n",
            " 71%|███████   | 249216/351122 [00:33<00:13, 7282.81it/s]\u001b[A\n",
            " 71%|███████   | 249947/351122 [00:33<00:13, 7274.21it/s]\u001b[A\n",
            " 71%|███████▏  | 250741/351122 [00:33<00:13, 7459.30it/s]\u001b[A\n",
            " 72%|███████▏  | 251511/351122 [00:33<00:13, 7529.57it/s]\u001b[A\n",
            " 72%|███████▏  | 252266/351122 [00:34<00:13, 7480.83it/s]\u001b[A\n",
            " 72%|███████▏  | 253018/351122 [00:34<00:13, 7490.78it/s]\u001b[A\n",
            " 72%|███████▏  | 253796/351122 [00:34<00:12, 7574.37it/s]\u001b[A\n",
            " 72%|███████▏  | 254555/351122 [00:34<00:12, 7561.25it/s]\u001b[A\n",
            " 73%|███████▎  | 255319/351122 [00:34<00:12, 7583.08it/s]\u001b[A\n",
            " 73%|███████▎  | 256078/351122 [00:34<00:12, 7541.11it/s]\u001b[A\n",
            " 73%|███████▎  | 256838/351122 [00:34<00:12, 7557.43it/s]\u001b[A\n",
            " 73%|███████▎  | 257605/351122 [00:34<00:12, 7589.08it/s]\u001b[A\n",
            " 74%|███████▎  | 258395/351122 [00:34<00:12, 7677.59it/s]\u001b[A\n",
            " 74%|███████▍  | 259192/351122 [00:34<00:11, 7761.45it/s]\u001b[A\n",
            " 74%|███████▍  | 259969/351122 [00:35<00:12, 7310.23it/s]\u001b[A\n",
            " 74%|███████▍  | 260756/351122 [00:35<00:12, 7468.10it/s]\u001b[A\n",
            " 74%|███████▍  | 261539/351122 [00:35<00:11, 7569.68it/s]\u001b[A\n",
            " 75%|███████▍  | 262315/351122 [00:35<00:11, 7622.61it/s]\u001b[A\n",
            " 75%|███████▍  | 263080/351122 [00:35<00:11, 7537.53it/s]\u001b[A\n",
            " 75%|███████▌  | 263876/351122 [00:35<00:11, 7658.65it/s]\u001b[A\n",
            " 75%|███████▌  | 264644/351122 [00:35<00:11, 7575.68it/s]\u001b[A\n",
            " 76%|███████▌  | 265440/351122 [00:35<00:11, 7685.14it/s]\u001b[A\n",
            " 76%|███████▌  | 266210/351122 [00:35<00:11, 7554.18it/s]\u001b[A\n",
            " 76%|███████▌  | 266984/351122 [00:35<00:11, 7607.26it/s]\u001b[A\n",
            " 76%|███████▋  | 267746/351122 [00:36<00:11, 7388.56it/s]\u001b[A\n",
            " 76%|███████▋  | 268526/351122 [00:36<00:11, 7506.63it/s]\u001b[A\n",
            " 77%|███████▋  | 269279/351122 [00:36<00:11, 7285.56it/s]\u001b[A\n",
            " 77%|███████▋  | 270065/351122 [00:36<00:10, 7446.80it/s]\u001b[A\n",
            " 77%|███████▋  | 270813/351122 [00:36<00:10, 7398.77it/s]\u001b[A\n",
            " 77%|███████▋  | 271610/351122 [00:36<00:10, 7560.19it/s]\u001b[A\n",
            " 78%|███████▊  | 272369/351122 [00:36<00:10, 7469.22it/s]\u001b[A\n",
            " 78%|███████▊  | 273140/351122 [00:36<00:10, 7538.70it/s]\u001b[A\n",
            " 78%|███████▊  | 273896/351122 [00:36<00:10, 7488.00it/s]\u001b[A\n",
            " 78%|███████▊  | 274646/351122 [00:37<00:10, 7258.30it/s]\u001b[A\n",
            " 78%|███████▊  | 275404/351122 [00:37<00:10, 7350.37it/s]\u001b[A\n",
            " 79%|███████▊  | 276141/351122 [00:37<00:10, 7292.52it/s]\u001b[A\n",
            " 79%|███████▉  | 276916/351122 [00:37<00:09, 7422.05it/s]\u001b[A\n",
            " 79%|███████▉  | 277660/351122 [00:37<00:09, 7410.94it/s]\u001b[A\n",
            " 79%|███████▉  | 278403/351122 [00:37<00:10, 7076.13it/s]\u001b[A\n",
            " 79%|███████▉  | 279115/351122 [00:37<00:10, 6941.85it/s]\u001b[A\n",
            " 80%|███████▉  | 279828/351122 [00:37<00:10, 6995.76it/s]\u001b[A\n",
            " 80%|███████▉  | 280581/351122 [00:37<00:09, 7147.02it/s]\u001b[A\n",
            " 80%|████████  | 281299/351122 [00:37<00:09, 7156.16it/s]\u001b[A\n",
            " 80%|████████  | 282017/351122 [00:38<00:09, 7136.93it/s]\u001b[A\n",
            " 81%|████████  | 282764/351122 [00:38<00:09, 7231.65it/s]\u001b[A\n",
            " 81%|████████  | 283543/351122 [00:38<00:09, 7389.61it/s]\u001b[A\n",
            " 81%|████████  | 284284/351122 [00:38<00:09, 7288.23it/s]\u001b[A\n",
            " 81%|████████  | 285015/351122 [00:38<00:09, 7264.04it/s]\u001b[A\n",
            " 81%|████████▏ | 285755/351122 [00:38<00:08, 7303.79it/s]\u001b[A\n",
            " 82%|████████▏ | 286487/351122 [00:38<00:09, 6757.18it/s]\u001b[A\n",
            " 82%|████████▏ | 287195/351122 [00:38<00:09, 6848.90it/s]\u001b[A\n",
            " 82%|████████▏ | 287954/351122 [00:38<00:08, 7051.42it/s]\u001b[A\n",
            " 82%|████████▏ | 288670/351122 [00:38<00:08, 7078.74it/s]\u001b[A\n",
            " 82%|████████▏ | 289383/351122 [00:39<00:08, 7074.56it/s]\u001b[A\n",
            " 83%|████████▎ | 290146/351122 [00:39<00:08, 7231.58it/s]\u001b[A\n",
            " 83%|████████▎ | 290936/351122 [00:39<00:08, 7419.14it/s]\u001b[A\n",
            " 83%|████████▎ | 291682/351122 [00:39<00:08, 7404.93it/s]\u001b[A\n",
            " 83%|████████▎ | 292477/351122 [00:39<00:07, 7558.75it/s]\u001b[A\n",
            " 84%|████████▎ | 293236/351122 [00:39<00:07, 7508.13it/s]\u001b[A\n",
            " 84%|████████▎ | 293989/351122 [00:39<00:07, 7321.45it/s]\u001b[A\n",
            " 84%|████████▍ | 294724/351122 [00:39<00:07, 7218.93it/s]\u001b[A\n",
            " 84%|████████▍ | 295448/351122 [00:39<00:07, 7086.85it/s]\u001b[A\n",
            " 84%|████████▍ | 296214/351122 [00:40<00:07, 7249.15it/s]\u001b[A\n",
            " 85%|████████▍ | 296942/351122 [00:40<00:07, 7151.58it/s]\u001b[A\n",
            " 85%|████████▍ | 297744/351122 [00:40<00:07, 7391.15it/s]\u001b[A\n",
            " 85%|████████▌ | 298487/351122 [00:40<00:07, 7199.08it/s]\u001b[A\n",
            " 85%|████████▌ | 299211/351122 [00:40<00:07, 7207.29it/s]\u001b[A\n",
            " 85%|████████▌ | 300004/351122 [00:40<00:06, 7408.54it/s]\u001b[A\n",
            " 86%|████████▌ | 300756/351122 [00:40<00:06, 7439.47it/s]\u001b[A\n",
            " 86%|████████▌ | 301536/351122 [00:40<00:06, 7543.94it/s]\u001b[A\n",
            " 86%|████████▌ | 302293/351122 [00:40<00:06, 7325.30it/s]\u001b[A\n",
            " 86%|████████▋ | 303036/351122 [00:40<00:06, 7355.64it/s]\u001b[A\n",
            " 87%|████████▋ | 303796/351122 [00:41<00:06, 7426.65it/s]\u001b[A\n",
            " 87%|████████▋ | 304541/351122 [00:41<00:06, 7262.72it/s]\u001b[A\n",
            " 87%|████████▋ | 305336/351122 [00:41<00:06, 7454.66it/s]\u001b[A\n",
            " 87%|████████▋ | 306085/351122 [00:41<00:06, 7445.16it/s]\u001b[A\n",
            " 87%|████████▋ | 306855/351122 [00:41<00:05, 7519.41it/s]\u001b[A\n",
            " 88%|████████▊ | 307609/351122 [00:41<00:05, 7374.81it/s]\u001b[A\n",
            " 88%|████████▊ | 308358/351122 [00:41<00:05, 7407.98it/s]\u001b[A\n",
            " 88%|████████▊ | 309117/351122 [00:41<00:05, 7461.59it/s]\u001b[A\n",
            " 88%|████████▊ | 309865/351122 [00:41<00:05, 7383.26it/s]\u001b[A\n",
            " 88%|████████▊ | 310605/351122 [00:41<00:05, 7263.74it/s]\u001b[A\n",
            " 89%|████████▊ | 311353/351122 [00:42<00:05, 7325.12it/s]\u001b[A\n",
            " 89%|████████▉ | 312087/351122 [00:42<00:05, 7258.72it/s]\u001b[A\n",
            " 89%|████████▉ | 312814/351122 [00:42<00:05, 7251.64it/s]\u001b[A\n",
            " 89%|████████▉ | 313579/351122 [00:42<00:05, 7366.27it/s]\u001b[A\n",
            " 90%|████████▉ | 314357/351122 [00:42<00:04, 7485.53it/s]\u001b[A\n",
            " 90%|████████▉ | 315107/351122 [00:42<00:04, 7448.10it/s]\u001b[A\n",
            " 90%|████████▉ | 315868/351122 [00:42<00:04, 7494.56it/s]\u001b[A\n",
            " 90%|█████████ | 316619/351122 [00:42<00:04, 7294.14it/s]\u001b[A\n",
            " 90%|█████████ | 317351/351122 [00:42<00:04, 7236.59it/s]\u001b[A\n",
            " 91%|█████████ | 318076/351122 [00:42<00:04, 7104.18it/s]\u001b[A\n",
            " 91%|█████████ | 318805/351122 [00:43<00:04, 7157.93it/s]\u001b[A\n",
            " 91%|█████████ | 319522/351122 [00:43<00:04, 6737.29it/s]\u001b[A\n",
            " 91%|█████████ | 320202/351122 [00:43<00:04, 6732.90it/s]\u001b[A\n",
            " 91%|█████████▏| 320930/351122 [00:43<00:04, 6886.87it/s]\u001b[A\n",
            " 92%|█████████▏| 321688/351122 [00:43<00:04, 7078.66it/s]\u001b[A\n",
            " 92%|█████████▏| 322477/351122 [00:43<00:03, 7302.44it/s]\u001b[A\n",
            " 92%|█████████▏| 323220/351122 [00:43<00:03, 7339.67it/s]\u001b[A\n",
            " 92%|█████████▏| 324000/351122 [00:43<00:03, 7471.52it/s]\u001b[A\n",
            " 92%|█████████▏| 324750/351122 [00:43<00:03, 7386.44it/s]\u001b[A\n",
            " 93%|█████████▎| 325503/351122 [00:44<00:03, 7426.73it/s]\u001b[A\n",
            " 93%|█████████▎| 326292/351122 [00:44<00:03, 7559.80it/s]\u001b[A\n",
            " 93%|█████████▎| 327050/351122 [00:44<00:03, 7185.28it/s]\u001b[A\n",
            " 93%|█████████▎| 327837/351122 [00:44<00:03, 7374.84it/s]\u001b[A\n",
            " 94%|█████████▎| 328598/351122 [00:44<00:03, 7442.10it/s]\u001b[A\n",
            " 94%|█████████▍| 329346/351122 [00:44<00:02, 7391.19it/s]\u001b[A\n",
            " 94%|█████████▍| 330092/351122 [00:44<00:02, 7406.16it/s]\u001b[A\n",
            " 94%|█████████▍| 330835/351122 [00:44<00:02, 7301.88it/s]\u001b[A\n",
            " 94%|█████████▍| 331580/351122 [00:44<00:02, 7344.23it/s]\u001b[A\n",
            " 95%|█████████▍| 332316/351122 [00:44<00:02, 7318.01it/s]\u001b[A\n",
            " 95%|█████████▍| 333063/351122 [00:45<00:02, 7361.41it/s]\u001b[A\n",
            " 95%|█████████▌| 333843/351122 [00:45<00:02, 7486.32it/s]\u001b[A\n",
            " 95%|█████████▌| 334593/351122 [00:45<00:02, 7284.88it/s]\u001b[A\n",
            " 96%|█████████▌| 335324/351122 [00:45<00:02, 7137.38it/s]\u001b[A\n",
            " 96%|█████████▌| 336052/351122 [00:45<00:02, 7178.30it/s]\u001b[A\n",
            " 96%|█████████▌| 336835/351122 [00:45<00:01, 7361.03it/s]\u001b[A\n",
            " 96%|█████████▌| 337574/351122 [00:45<00:01, 7306.61it/s]\u001b[A\n",
            " 96%|█████████▋| 338337/351122 [00:45<00:01, 7396.14it/s]\u001b[A\n",
            " 97%|█████████▋| 339079/351122 [00:45<00:01, 7213.47it/s]\u001b[A\n",
            " 97%|█████████▋| 339803/351122 [00:45<00:01, 7216.45it/s]\u001b[A\n",
            " 97%|█████████▋| 340560/351122 [00:46<00:01, 7317.65it/s]\u001b[A\n",
            " 97%|█████████▋| 341318/351122 [00:46<00:01, 7393.18it/s]\u001b[A\n",
            " 97%|█████████▋| 342059/351122 [00:46<00:01, 7376.94it/s]\u001b[A\n",
            " 98%|█████████▊| 342798/351122 [00:46<00:01, 7130.55it/s]\u001b[A\n",
            " 98%|█████████▊| 343559/351122 [00:46<00:01, 7264.94it/s]\u001b[A\n",
            " 98%|█████████▊| 344340/351122 [00:46<00:00, 7419.08it/s]\u001b[A\n",
            " 98%|█████████▊| 345085/351122 [00:46<00:00, 7317.28it/s]\u001b[A\n",
            " 98%|█████████▊| 345849/351122 [00:46<00:00, 7409.46it/s]\u001b[A\n",
            " 99%|█████████▊| 346594/351122 [00:46<00:00, 7421.08it/s]\u001b[A\n",
            " 99%|█████████▉| 347384/351122 [00:46<00:00, 7557.77it/s]\u001b[A\n",
            " 99%|█████████▉| 348142/351122 [00:47<00:00, 7461.97it/s]\u001b[A\n",
            " 99%|█████████▉| 348931/351122 [00:47<00:00, 7584.92it/s]\u001b[A\n",
            "100%|█████████▉| 349691/351122 [00:47<00:00, 7331.38it/s]\u001b[A\n",
            "100%|█████████▉| 350427/351122 [00:47<00:00, 7285.47it/s]\u001b[A"
          ],
          "name": "stderr"
        },
        {
          "output_type": "stream",
          "text": [
            "1単語を表現する次元数： 300\n",
            "単語数： 351122\n"
          ],
          "name": "stdout"
        }
      ]
    },
    {
      "cell_type": "code",
      "metadata": {
        "id": "sYuQW1m_ag-x",
        "colab_type": "code",
        "outputId": "1a010c3f-f64c-4f47-eac0-55c9cb2e931d",
        "colab": {
          "base_uri": "https://localhost:8080/",
          "height": 1000
        }
      },
      "source": [
        "# ベクトル化したバージョンのボキャブラリーを作成します\n",
        "TEXT.build_vocab(train_ds, vectors=japanese_fasttext_vectors, min_freq=1)\n",
        "\n",
        "# ボキャブラリーのベクトルを確認します\n",
        "print(TEXT.vocab.vectors.shape)  # 52個の単語が300次元のベクトルで表現されている\n",
        "TEXT.vocab.vectors\n",
        "\n",
        "# ボキャブラリーの単語の順番を確認します\n",
        "TEXT.vocab.stoi\n"
      ],
      "execution_count": 15,
      "outputs": [
        {
          "output_type": "stream",
          "text": [
            "torch.Size([73, 300])\n"
          ],
          "name": "stdout"
        },
        {
          "output_type": "execute_result",
          "data": {
            "text/plain": [
              "defaultdict(<function torchtext.vocab._default_unk_index>,\n",
              "            {'0': 29,\n",
              "             '<pad>': 1,\n",
              "             '<unk>': 0,\n",
              "             '、': 2,\n",
              "             '。': 4,\n",
              "             '「': 30,\n",
              "             '」': 31,\n",
              "             'ある': 16,\n",
              "             'い': 13,\n",
              "             'いる': 17,\n",
              "             'か': 18,\n",
              "             'が': 5,\n",
              "             'き': 32,\n",
              "             'この': 19,\n",
              "             'さ': 20,\n",
              "             'し': 14,\n",
              "             'しまう': 33,\n",
              "             'する': 21,\n",
              "             'その': 34,\n",
              "             'た': 15,\n",
              "             'て': 7,\n",
              "             'で': 22,\n",
              "             'でし': 35,\n",
              "             'と': 9,\n",
              "             'とても': 36,\n",
              "             'な': 10,\n",
              "             'に': 11,\n",
              "             'に対して': 37,\n",
              "             'の': 3,\n",
              "             'は': 6,\n",
              "             'まし': 23,\n",
              "             'ます': 24,\n",
              "             'れ': 25,\n",
              "             'を': 8,\n",
              "             'アニメ映画': 38,\n",
              "             'クラス': 39,\n",
              "             'ネガティブ': 40,\n",
              "             'ポジティブ': 41,\n",
              "             'モデル': 42,\n",
              "             'レビュー': 43,\n",
              "             '人工知能': 44,\n",
              "             '使用': 45,\n",
              "             '借り': 46,\n",
              "             '値': 47,\n",
              "             '分類': 26,\n",
              "             '化': 48,\n",
              "             '君の名は': 49,\n",
              "             '商品': 50,\n",
              "             '国': 51,\n",
              "             '基礎': 52,\n",
              "             '夫婦': 27,\n",
              "             '女性': 53,\n",
              "             '女王': 54,\n",
              "             '姫': 55,\n",
              "             '実用': 56,\n",
              "             '川': 57,\n",
              "             '文章': 12,\n",
              "             '映像': 58,\n",
              "             '村': 59,\n",
              "             '構築': 60,\n",
              "             '機械学習': 61,\n",
              "             '洗濯': 62,\n",
              "             '王': 63,\n",
              "             '王子': 64,\n",
              "             '男性': 65,\n",
              "             '短い': 66,\n",
              "             '綺麗': 67,\n",
              "             '自動車': 68,\n",
              "             '自動運転': 69,\n",
              "             '自動運転技術': 70,\n",
              "             '行き': 71,\n",
              "             '評価': 28,\n",
              "             '近年': 72})"
            ]
          },
          "metadata": {
            "tags": []
          },
          "execution_count": 15
        }
      ]
    },
    {
      "cell_type": "code",
      "metadata": {
        "id": "TgR5gme_ag-1",
        "colab_type": "code",
        "outputId": "f65a4587-59fa-4276-8f56-93935e53b265",
        "colab": {
          "base_uri": "https://localhost:8080/",
          "height": 85
        }
      },
      "source": [
        "# 姫 - 女性 + 男性 のベクトルがどれと似ているのか確認してみます\n",
        "import torch.nn.functional as F\n",
        "\n",
        "# 姫 - 女性 + 男性\n",
        "tensor_calc = TEXT.vocab.vectors[55] - \\\n",
        "    TEXT.vocab.vectors[53] + TEXT.vocab.vectors[65]\n",
        "\n",
        "# コサイン類似度を計算\n",
        "# dim=0 は0次元目で計算してくださいという指定\n",
        "print(\"女王\", F.cosine_similarity(tensor_calc, TEXT.vocab.vectors[54], dim=0))\n",
        "print(\"王\", F.cosine_similarity(tensor_calc, TEXT.vocab.vectors[63], dim=0))\n",
        "print(\"王子\", F.cosine_similarity(tensor_calc, TEXT.vocab.vectors[64], dim=0))\n",
        "print(\"機械学習\", F.cosine_similarity(tensor_calc, TEXT.vocab.vectors[61], dim=0))\n"
      ],
      "execution_count": 16,
      "outputs": [
        {
          "output_type": "stream",
          "text": [
            "女王 tensor(0.3650)\n",
            "王 tensor(0.3461)\n",
            "王子 tensor(0.5531)\n",
            "機械学習 tensor(0.0952)\n"
          ],
          "name": "stdout"
        }
      ]
    },
    {
      "cell_type": "markdown",
      "metadata": {
        "id": "F7hdHOdHag-4",
        "colab_type": "text"
      },
      "source": [
        "姫 - 女性 + 男性　を計算すると狙った通り、王子がもっとも近い結果になりました"
      ]
    },
    {
      "cell_type": "markdown",
      "metadata": {
        "id": "tpNTBkEHag-6",
        "colab_type": "text"
      },
      "source": [
        "以上"
      ]
    }
  ]
}
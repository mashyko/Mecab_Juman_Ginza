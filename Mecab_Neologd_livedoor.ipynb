{
  "nbformat": 4,
  "nbformat_minor": 0,
  "metadata": {
    "colab": {
      "name": "Mecab_Neologd_livedoor.ipynb",
      "provenance": [],
      "collapsed_sections": [],
      "include_colab_link": true
    },
    "kernelspec": {
      "name": "python3",
      "display_name": "Python 3"
    }
  },
  "cells": [
    {
      "cell_type": "markdown",
      "metadata": {
        "id": "view-in-github",
        "colab_type": "text"
      },
      "source": [
        "<a href=\"https://colab.research.google.com/github/mashyko/NLP_BERT_Transformers/blob/master/Mecab_Neologd_livedoor.ipynb\" target=\"_parent\"><img src=\"https://colab.research.google.com/assets/colab-badge.svg\" alt=\"Open In Colab\"/></a>"
      ]
    },
    {
      "cell_type": "markdown",
      "metadata": {
        "id": "I5UvSa7Je5IO",
        "colab_type": "text"
      },
      "source": [
        "# MecabとGensim による類似単語検出：Livedoor News を使用"
      ]
    },
    {
      "cell_type": "markdown",
      "metadata": {
        "id": "JlD1ZicLzHn7",
        "colab_type": "text"
      },
      "source": [
        "Mecabとmecab-ipadic-neologdのインストール： \n",
        "\n",
        "NEologd辞書の追加　:\n",
        "NEologdは、Web上から得た新語に対応しており、毎週更新されるMeCab用のシステム辞書です。\n",
        "\n",
        "mecab-python もインストール\n"
      ]
    },
    {
      "cell_type": "code",
      "metadata": {
        "id": "u76ewinykLfe",
        "colab_type": "code",
        "outputId": "c8a00c84-20bd-4441-fe00-5ee028375e3a",
        "colab": {
          "base_uri": "https://localhost:8080/",
          "height": 119
        }
      },
      "source": [
        "!apt-get -q -y install sudo file mecab libmecab-dev mecab-ipadic-utf8 git curl python-mecab > /dev/null\n",
        "!git clone --depth 1 https://github.com/neologd/mecab-ipadic-neologd.git > /dev/null \n",
        "!echo yes | mecab-ipadic-neologd/bin/install-mecab-ipadic-neologd -n > /dev/null 2>&1\n",
        "!pip install mecab-python3 > /dev/null"
      ],
      "execution_count": 0,
      "outputs": [
        {
          "output_type": "stream",
          "text": [
            "Cloning into 'mecab-ipadic-neologd'...\n",
            "remote: Enumerating objects: 75, done.\u001b[K\n",
            "remote: Counting objects: 100% (75/75), done.\u001b[K\n",
            "remote: Compressing objects: 100% (74/74), done.\u001b[K\n",
            "remote: Total 75 (delta 5), reused 54 (delta 0), pack-reused 0\u001b[K\n",
            "Unpacking objects: 100% (75/75), done.\n"
          ],
          "name": "stdout"
        }
      ]
    },
    {
      "cell_type": "markdown",
      "metadata": {
        "id": "IPksPy0RGzR8",
        "colab_type": "text"
      },
      "source": [
        "mecab-ipadic-neologdが保存されているフォルダーを調べる。"
      ]
    },
    {
      "cell_type": "code",
      "metadata": {
        "id": "Od7tNFDj7rKu",
        "colab_type": "code",
        "outputId": "4f5ae185-2f86-46a6-99cb-ca3b9aa9c9e4",
        "colab": {
          "base_uri": "https://localhost:8080/",
          "height": 34
        }
      },
      "source": [
        "!mecab-config --dicdir"
      ],
      "execution_count": 0,
      "outputs": [
        {
          "output_type": "stream",
          "text": [
            "/usr/lib/x86_64-linux-gnu/mecab/dic\n"
          ],
          "name": "stdout"
        }
      ]
    },
    {
      "cell_type": "code",
      "metadata": {
        "id": "XeDmBFs5emsf",
        "colab_type": "code",
        "outputId": "e87e9840-2e0b-47dc-a68a-d72fc374c91c",
        "colab": {
          "base_uri": "https://localhost:8080/",
          "height": 289
        }
      },
      "source": [
        "!cat /etc/mecabrc"
      ],
      "execution_count": 0,
      "outputs": [
        {
          "output_type": "stream",
          "text": [
            ";\n",
            "; Configuration file of MeCab\n",
            ";\n",
            "; $Id: mecabrc.in,v 1.3 2006/05/29 15:36:08 taku-ku Exp $;\n",
            ";\n",
            "dicdir = /var/lib/mecab/dic/debian\n",
            "\n",
            "; userdic = /home/foo/bar/user.dic\n",
            "\n",
            "; output-format-type = wakati\n",
            "; input-buffer-size = 8192\n",
            "\n",
            "; node-format = %m\\n\n",
            "; bos-format = %S\\n\n",
            "; eos-format = EOS\\n\n",
            "\n"
          ],
          "name": "stdout"
        }
      ]
    },
    {
      "cell_type": "code",
      "metadata": {
        "id": "3od8IYx_mQZu",
        "colab_type": "code",
        "outputId": "9339ad54-bbf5-4b44-a1fe-2b2ea5235aba",
        "colab": {
          "base_uri": "https://localhost:8080/",
          "height": 170
        }
      },
      "source": [
        "import MeCab\n",
        "sent = \"スマホでインスタが流行っている\" \n",
        "tagger = MeCab.Tagger ()\n",
        "print(tagger.parse(sent))"
      ],
      "execution_count": 0,
      "outputs": [
        {
          "output_type": "stream",
          "text": [
            "スマホ\t名詞,一般,*,*,*,*,*\n",
            "で\t助詞,格助詞,一般,*,*,*,で,デ,デ\n",
            "インスタ\t名詞,一般,*,*,*,*,*\n",
            "が\t助詞,格助詞,一般,*,*,*,が,ガ,ガ\n",
            "流行っ\t動詞,自立,*,*,五段・ラ行,連用タ接続,流行る,ハヤッ,ハヤッ\n",
            "て\t助詞,接続助詞,*,*,*,*,て,テ,テ\n",
            "いる\t動詞,非自立,*,*,一段,基本形,いる,イル,イル\n",
            "EOS\n",
            "\n"
          ],
          "name": "stdout"
        }
      ]
    },
    {
      "cell_type": "markdown",
      "metadata": {
        "id": "xQKNWveP6ADt",
        "colab_type": "text"
      },
      "source": [
        ""
      ]
    },
    {
      "cell_type": "code",
      "metadata": {
        "id": "rE3f8rUGtZ07",
        "colab_type": "code",
        "outputId": "bd5e4539-9e11-4586-ad0f-44e4500f35e3",
        "colab": {
          "base_uri": "https://localhost:8080/",
          "height": 340
        }
      },
      "source": [
        "!echo \"SMAPのキムタクはポケモンに会いに行き、スマホを売るバイトをしている\" | mecab -d /usr/lib/x86_64-linux-gnu/mecab/dic/mecab-ipadic-neologd"
      ],
      "execution_count": 0,
      "outputs": [
        {
          "output_type": "stream",
          "text": [
            "SMAP\t名詞,固有名詞,一般,*,*,*,SMAP,スマップ,スマップ\n",
            "の\t助詞,連体化,*,*,*,*,の,ノ,ノ\n",
            "キムタク\t名詞,固有名詞,一般,*,*,*,キムタク,キムタク,キムタク\n",
            "は\t助詞,係助詞,*,*,*,*,は,ハ,ワ\n",
            "ポケモン\t名詞,固有名詞,一般,*,*,*,Pokemon!,ポケモン,ポケモン\n",
            "に\t助詞,格助詞,一般,*,*,*,に,ニ,ニ\n",
            "会い\t名詞,一般,*,*,*,*,会意,カイイ,カイー\n",
            "に\t助詞,格助詞,一般,*,*,*,に,ニ,ニ\n",
            "行き\t動詞,自立,*,*,五段・カ行促音便,連用形,行く,イキ,イキ\n",
            "、\t記号,読点,*,*,*,*,、,、,、\n",
            "スマホ\t名詞,固有名詞,一般,*,*,*,スマホ,スマホ,スマホ\n",
            "を\t助詞,格助詞,一般,*,*,*,を,ヲ,ヲ\n",
            "売る\t動詞,自立,*,*,五段・ラ行,基本形,売る,ウル,ウル\n",
            "バイト\t名詞,一般,*,*,*,*,バイト,バイト,バイト\n",
            "を\t助詞,格助詞,一般,*,*,*,を,ヲ,ヲ\n",
            "し\t動詞,自立,*,*,サ変・スル,連用形,する,シ,シ\n",
            "て\t助詞,接続助詞,*,*,*,*,て,テ,テ\n",
            "いる\t動詞,非自立,*,*,一段,基本形,いる,イル,イル\n",
            "EOS\n"
          ],
          "name": "stdout"
        }
      ]
    },
    {
      "cell_type": "markdown",
      "metadata": {
        "id": "dUUoeiX4yjkz",
        "colab_type": "text"
      },
      "source": [
        "ここからLivedoor News を使用しますので、以下のようにファイルをダウンロードして配置してください。\n",
        "\n",
        "/My Drive/NLP/livedoor-news-data/topic-news.xml \n",
        "\n",
        "この文書が入ったMy Drive にmountします。"
      ]
    },
    {
      "cell_type": "code",
      "metadata": {
        "id": "LBfDx0dl7_EA",
        "colab_type": "code",
        "outputId": "e37a9f2d-818e-4acd-da27-c8c940147386",
        "colab": {
          "base_uri": "https://localhost:8080/",
          "height": 122
        }
      },
      "source": [
        "from google.colab import drive\n",
        "drive.mount('/content/drive')"
      ],
      "execution_count": 0,
      "outputs": [
        {
          "output_type": "stream",
          "text": [
            "Go to this URL in a browser: https://accounts.google.com/o/oauth2/auth?client_id=947318989803-6bn6qk8qdgf4n4g3pfee6491hc0brc4i.apps.googleusercontent.com&redirect_uri=urn%3aietf%3awg%3aoauth%3a2.0%3aoob&response_type=code&scope=email%20https%3a%2f%2fwww.googleapis.com%2fauth%2fdocs.test%20https%3a%2f%2fwww.googleapis.com%2fauth%2fdrive%20https%3a%2f%2fwww.googleapis.com%2fauth%2fdrive.photos.readonly%20https%3a%2f%2fwww.googleapis.com%2fauth%2fpeopleapi.readonly\n",
            "\n",
            "Enter your authorization code:\n",
            "··········\n",
            "Mounted at /content/drive\n"
          ],
          "name": "stdout"
        }
      ]
    },
    {
      "cell_type": "code",
      "metadata": {
        "id": "7KlA2W80KvFJ",
        "colab_type": "code",
        "colab": {}
      },
      "source": [
        "#!mecab -Owakati topic-news.txt -o topic-wakati.txt\n",
        "!mecab  -Owakati /content/drive/My\\ Drive/NLP/livedoor-news-data/topic-news.txt -o /content/drive/My\\ Drive/NLP/livedoor-news-data/topic-wakati.txt"
      ],
      "execution_count": 0,
      "outputs": []
    },
    {
      "cell_type": "code",
      "metadata": {
        "id": "mciS_QRgrFbp",
        "colab_type": "code",
        "colab": {}
      },
      "source": [
        "import MeCab\n",
        "tagger = MeCab.Tagger('-F\\s%f[6] -d /usr/lib/x86_64-linux-gnu/mecab/dic/mecab-ipadic-neologd')\n",
        "\n",
        "raw = open('/content/drive/My Drive/NLP/livedoor-news-data/topic-news.xml', 'r')\n",
        "text = open('/content/drive/My Drive/NLP/livedoor-news-data/topic-news_text.xml', 'w')\n",
        "\n",
        "line = raw.readline()\n",
        "while line:\n",
        "    result = tagger.parse(line)\n",
        "    text.write(result[1:]) # skip first \\s\n",
        "    line = raw.readline()\n",
        "\n",
        "raw.close()\n",
        "text.close()"
      ],
      "execution_count": 0,
      "outputs": []
    },
    {
      "cell_type": "code",
      "metadata": {
        "id": "K9WnQTExV3Pj",
        "colab_type": "code",
        "outputId": "ec54bb70-1c19-4854-a13c-6cee05bd30c9",
        "colab": {
          "base_uri": "https://localhost:8080/",
          "height": 255
        }
      },
      "source": [
        "%%bash\n",
        "cd /content/drive/My\\ Drive/NLP/livedoor-news-data/\n",
        "ls "
      ],
      "execution_count": 0,
      "outputs": [
        {
          "output_type": "stream",
          "text": [
            "dokujo-tsushin.xml\n",
            "it-life-hack.xml\n",
            "kaden-channel.xml\n",
            "livedoor-homme.xml\n",
            "movie-enter.xml\n",
            "peachy.xml\n",
            "smax.xml\n",
            "sports-watch.xml\n",
            "topic-news.model\n",
            "topic-news_text.txt\n",
            "topic-news_text.xml\n",
            "topic-news.txt\n",
            "topic-news.xml\n",
            "topic-wakati.txt\n"
          ],
          "name": "stdout"
        }
      ]
    },
    {
      "cell_type": "markdown",
      "metadata": {
        "id": "TSXkq4Oly4NQ",
        "colab_type": "text"
      },
      "source": [
        "Gensimのインストール"
      ]
    },
    {
      "cell_type": "code",
      "metadata": {
        "id": "loyBHfB1xLl8",
        "colab_type": "code",
        "outputId": "cc4b82d8-add7-4407-88eb-54641d5786f9",
        "colab": {
          "base_uri": "https://localhost:8080/",
          "height": 326
        }
      },
      "source": [
        "!pip install gensim"
      ],
      "execution_count": 0,
      "outputs": [
        {
          "output_type": "stream",
          "text": [
            "Requirement already satisfied: gensim in /usr/local/lib/python3.6/dist-packages (3.6.0)\n",
            "Requirement already satisfied: scipy>=0.18.1 in /usr/local/lib/python3.6/dist-packages (from gensim) (1.3.3)\n",
            "Requirement already satisfied: six>=1.5.0 in /usr/local/lib/python3.6/dist-packages (from gensim) (1.12.0)\n",
            "Requirement already satisfied: numpy>=1.11.3 in /usr/local/lib/python3.6/dist-packages (from gensim) (1.17.4)\n",
            "Requirement already satisfied: smart-open>=1.2.1 in /usr/local/lib/python3.6/dist-packages (from gensim) (1.9.0)\n",
            "Requirement already satisfied: boto3 in /usr/local/lib/python3.6/dist-packages (from smart-open>=1.2.1->gensim) (1.10.40)\n",
            "Requirement already satisfied: boto>=2.32 in /usr/local/lib/python3.6/dist-packages (from smart-open>=1.2.1->gensim) (2.49.0)\n",
            "Requirement already satisfied: requests in /usr/local/lib/python3.6/dist-packages (from smart-open>=1.2.1->gensim) (2.21.0)\n",
            "Requirement already satisfied: jmespath<1.0.0,>=0.7.1 in /usr/local/lib/python3.6/dist-packages (from boto3->smart-open>=1.2.1->gensim) (0.9.4)\n",
            "Requirement already satisfied: s3transfer<0.3.0,>=0.2.0 in /usr/local/lib/python3.6/dist-packages (from boto3->smart-open>=1.2.1->gensim) (0.2.1)\n",
            "Requirement already satisfied: botocore<1.14.0,>=1.13.40 in /usr/local/lib/python3.6/dist-packages (from boto3->smart-open>=1.2.1->gensim) (1.13.40)\n",
            "Requirement already satisfied: chardet<3.1.0,>=3.0.2 in /usr/local/lib/python3.6/dist-packages (from requests->smart-open>=1.2.1->gensim) (3.0.4)\n",
            "Requirement already satisfied: urllib3<1.25,>=1.21.1 in /usr/local/lib/python3.6/dist-packages (from requests->smart-open>=1.2.1->gensim) (1.24.3)\n",
            "Requirement already satisfied: certifi>=2017.4.17 in /usr/local/lib/python3.6/dist-packages (from requests->smart-open>=1.2.1->gensim) (2019.11.28)\n",
            "Requirement already satisfied: idna<2.9,>=2.5 in /usr/local/lib/python3.6/dist-packages (from requests->smart-open>=1.2.1->gensim) (2.8)\n",
            "Requirement already satisfied: python-dateutil<2.8.1,>=2.1; python_version >= \"2.7\" in /usr/local/lib/python3.6/dist-packages (from botocore<1.14.0,>=1.13.40->boto3->smart-open>=1.2.1->gensim) (2.6.1)\n",
            "Requirement already satisfied: docutils<0.16,>=0.10 in /usr/local/lib/python3.6/dist-packages (from botocore<1.14.0,>=1.13.40->boto3->smart-open>=1.2.1->gensim) (0.15.2)\n"
          ],
          "name": "stdout"
        }
      ]
    },
    {
      "cell_type": "code",
      "metadata": {
        "id": "McGpM4XQvwIK",
        "colab_type": "code",
        "outputId": "ba114a5a-c830-433a-ebfd-d74178cf2631",
        "colab": {
          "base_uri": "https://localhost:8080/",
          "height": 836
        }
      },
      "source": [
        "from gensim.models import word2vec\n",
        "import logging\n",
        "\n",
        "logging.basicConfig(format='%(asctime)s : %(levelname)s : %(message)s', level=logging.INFO)\n",
        "\n",
        "sentences = word2vec.LineSentence('/content/drive/My Drive/NLP/livedoor-news-data/topic-news_text.xml')\n",
        "model = word2vec.Word2Vec(sentences,\n",
        "                          sg=1,\n",
        "                          size=100,\n",
        "                          min_count=1,\n",
        "                          window=10,\n",
        "                          hs=1,\n",
        "                          negative=0)\n",
        "model.save('/content/drive/My Drive/NLP/livedoor-news-data/topic-news.model')\n"
      ],
      "execution_count": 0,
      "outputs": [
        {
          "output_type": "stream",
          "text": [
            "2019-12-29 04:46:59,913 : INFO : collecting all words and their counts\n",
            "/usr/local/lib/python3.6/dist-packages/smart_open/smart_open_lib.py:402: UserWarning: This function is deprecated, use smart_open.open instead. See the migration notes for details: https://github.com/RaRe-Technologies/smart_open/blob/master/README.rst#migrating-to-the-new-open-function\n",
            "  'See the migration notes for details: %s' % _MIGRATION_NOTES_URL\n",
            "2019-12-29 04:46:59,926 : INFO : PROGRESS: at sentence #0, processed 0 words, keeping 0 word types\n",
            "2019-12-29 04:47:00,010 : INFO : PROGRESS: at sentence #10000, processed 215902 words, keeping 14007 word types\n",
            "2019-12-29 04:47:00,072 : INFO : collected 19336 word types from a corpus of 377784 raw words and 16734 sentences\n",
            "2019-12-29 04:47:00,073 : INFO : Loading a fresh vocabulary\n",
            "2019-12-29 04:47:00,173 : INFO : effective_min_count=1 retains 19336 unique words (100% of original 19336, drops 0)\n",
            "2019-12-29 04:47:00,174 : INFO : effective_min_count=1 leaves 377784 word corpus (100% of original 377784, drops 0)\n",
            "2019-12-29 04:47:00,235 : INFO : deleting the raw counts dictionary of 19336 items\n",
            "2019-12-29 04:47:00,237 : INFO : sample=0.001 downsamples 37 most-common words\n",
            "2019-12-29 04:47:00,238 : INFO : downsampling leaves estimated 209391 word corpus (55.4% of prior 377784)\n",
            "2019-12-29 04:47:00,261 : INFO : constructing a huffman tree from 19336 words\n",
            "2019-12-29 04:47:00,761 : INFO : built huffman tree with maximum node depth 19\n",
            "2019-12-29 04:47:00,772 : INFO : estimated required memory for 19336 words and 100 dimensions: 29004000 bytes\n",
            "2019-12-29 04:47:00,773 : INFO : resetting layer weights\n",
            "2019-12-29 04:47:04,664 : INFO : training model with 3 workers on 19336 vocabulary and 100 features, using sg=1 hs=1 sample=0.001 negative=0 window=10\n",
            "2019-12-29 04:47:05,732 : INFO : EPOCH 1 - PROGRESS: at 58.14% examples, 108727 words/s, in_qsize 5, out_qsize 0\n",
            "2019-12-29 04:47:06,367 : INFO : worker thread finished; awaiting finish of 2 more threads\n",
            "2019-12-29 04:47:06,414 : INFO : worker thread finished; awaiting finish of 1 more threads\n",
            "2019-12-29 04:47:06,429 : INFO : worker thread finished; awaiting finish of 0 more threads\n",
            "2019-12-29 04:47:06,430 : INFO : EPOCH - 1 : training on 377784 raw words (209559 effective words) took 1.8s, 119246 effective words/s\n",
            "2019-12-29 04:47:07,452 : INFO : EPOCH 2 - PROGRESS: at 58.14% examples, 113183 words/s, in_qsize 5, out_qsize 0\n",
            "2019-12-29 04:47:08,121 : INFO : worker thread finished; awaiting finish of 2 more threads\n",
            "2019-12-29 04:47:08,188 : INFO : worker thread finished; awaiting finish of 1 more threads\n",
            "2019-12-29 04:47:08,200 : INFO : worker thread finished; awaiting finish of 0 more threads\n",
            "2019-12-29 04:47:08,201 : INFO : EPOCH - 2 : training on 377784 raw words (209317 effective words) took 1.8s, 118732 effective words/s\n",
            "2019-12-29 04:47:09,218 : INFO : EPOCH 3 - PROGRESS: at 55.72% examples, 107955 words/s, in_qsize 5, out_qsize 0\n",
            "2019-12-29 04:47:09,954 : INFO : worker thread finished; awaiting finish of 2 more threads\n",
            "2019-12-29 04:47:09,981 : INFO : worker thread finished; awaiting finish of 1 more threads\n",
            "2019-12-29 04:47:10,002 : INFO : worker thread finished; awaiting finish of 0 more threads\n",
            "2019-12-29 04:47:10,004 : INFO : EPOCH - 3 : training on 377784 raw words (209110 effective words) took 1.8s, 116428 effective words/s\n",
            "2019-12-29 04:47:11,019 : INFO : EPOCH 4 - PROGRESS: at 53.29% examples, 102796 words/s, in_qsize 5, out_qsize 0\n",
            "2019-12-29 04:47:11,788 : INFO : worker thread finished; awaiting finish of 2 more threads\n",
            "2019-12-29 04:47:11,790 : INFO : worker thread finished; awaiting finish of 1 more threads\n",
            "2019-12-29 04:47:11,847 : INFO : worker thread finished; awaiting finish of 0 more threads\n",
            "2019-12-29 04:47:11,848 : INFO : EPOCH - 4 : training on 377784 raw words (209294 effective words) took 1.8s, 113828 effective words/s\n",
            "2019-12-29 04:47:12,865 : INFO : EPOCH 5 - PROGRESS: at 55.80% examples, 108029 words/s, in_qsize 5, out_qsize 0\n",
            "2019-12-29 04:47:13,577 : INFO : worker thread finished; awaiting finish of 2 more threads\n",
            "2019-12-29 04:47:13,604 : INFO : worker thread finished; awaiting finish of 1 more threads\n",
            "2019-12-29 04:47:13,635 : INFO : worker thread finished; awaiting finish of 0 more threads\n",
            "2019-12-29 04:47:13,636 : INFO : EPOCH - 5 : training on 377784 raw words (209838 effective words) took 1.8s, 117537 effective words/s\n",
            "2019-12-29 04:47:13,636 : INFO : training on a 1888920 raw words (1047118 effective words) took 9.0s, 116711 effective words/s\n",
            "2019-12-29 04:47:13,637 : INFO : saving Word2Vec object under /content/drive/My Drive/NLP/livedoor-news-data/topic-news.model, separately None\n",
            "2019-12-29 04:47:13,638 : INFO : not storing attribute vectors_norm\n",
            "2019-12-29 04:47:13,640 : INFO : not storing attribute cum_table\n",
            "2019-12-29 04:47:14,559 : INFO : saved /content/drive/My Drive/NLP/livedoor-news-data/topic-news.model\n"
          ],
          "name": "stderr"
        }
      ]
    },
    {
      "cell_type": "code",
      "metadata": {
        "id": "fCcSR1y1u3Ju",
        "colab_type": "code",
        "outputId": "3da3e19e-d705-491c-e120-5a023bd3085b",
        "colab": {
          "base_uri": "https://localhost:8080/",
          "height": 581
        }
      },
      "source": [
        "model = word2vec.Word2Vec.load('/content/drive/My Drive/NLP/livedoor-news-data/topic-news.model')\n",
        "model.wv.most_similar(positive=['嵐'],topn=20)"
      ],
      "execution_count": 0,
      "outputs": [
        {
          "output_type": "stream",
          "text": [
            "2019-12-29 04:47:14,572 : INFO : loading Word2Vec object from /content/drive/My Drive/NLP/livedoor-news-data/topic-news.model\n",
            "/usr/local/lib/python3.6/dist-packages/smart_open/smart_open_lib.py:402: UserWarning: This function is deprecated, use smart_open.open instead. See the migration notes for details: https://github.com/RaRe-Technologies/smart_open/blob/master/README.rst#migrating-to-the-new-open-function\n",
            "  'See the migration notes for details: %s' % _MIGRATION_NOTES_URL\n",
            "2019-12-29 04:47:14,867 : INFO : loading wv recursively from /content/drive/My Drive/NLP/livedoor-news-data/topic-news.model.wv.* with mmap=None\n",
            "2019-12-29 04:47:14,868 : INFO : setting ignored attribute vectors_norm to None\n",
            "2019-12-29 04:47:14,877 : INFO : loading vocabulary recursively from /content/drive/My Drive/NLP/livedoor-news-data/topic-news.model.vocabulary.* with mmap=None\n",
            "2019-12-29 04:47:14,881 : INFO : loading trainables recursively from /content/drive/My Drive/NLP/livedoor-news-data/topic-news.model.trainables.* with mmap=None\n",
            "2019-12-29 04:47:14,882 : INFO : setting ignored attribute cum_table to None\n",
            "2019-12-29 04:47:14,883 : INFO : loaded /content/drive/My Drive/NLP/livedoor-news-data/topic-news.model\n",
            "2019-12-29 04:47:14,904 : INFO : precomputing L2-norms of word weight vectors\n",
            "/usr/local/lib/python3.6/dist-packages/gensim/matutils.py:737: FutureWarning: Conversion of the second argument of issubdtype from `int` to `np.signedinteger` is deprecated. In future, it will be treated as `np.int64 == np.dtype(int).type`.\n",
            "  if np.issubdtype(vec.dtype, np.int):\n"
          ],
          "name": "stderr"
        },
        {
          "output_type": "execute_result",
          "data": {
            "text/plain": [
              "[('生歌', 0.7207505702972412),\n",
              " ('酷', 0.6602052450180054),\n",
              " ('機材', 0.6535590291023254),\n",
              " ('テレビ放送', 0.6445494890213013),\n",
              " ('櫻井翔', 0.6333144903182983),\n",
              " ('FNS歌謡祭', 0.6314767003059387),\n",
              " ('連ドラ', 0.6109600067138672),\n",
              " ('新', 0.6080925464630127),\n",
              " ('反対デモ', 0.6029863357543945),\n",
              " ('ディー・エヌ・エー', 0.5936254262924194),\n",
              " ('女子アナ', 0.5878632068634033),\n",
              " ('騒然', 0.5859134197235107),\n",
              " ('大島優子', 0.585310697555542),\n",
              " ('吉高由里子', 0.5827311277389526),\n",
              " ('タカトシ', 0.5761194229125977),\n",
              " ('こわい', 0.5748745203018188),\n",
              " ('特集', 0.5724114179611206),\n",
              " ('丸見え', 0.5715619325637817),\n",
              " ('SKE', 0.5681651830673218),\n",
              " ('した', 0.5663911700248718)]"
            ]
          },
          "metadata": {
            "tags": []
          },
          "execution_count": 12
        }
      ]
    },
    {
      "cell_type": "markdown",
      "metadata": {
        "id": "bMr0Ycd_Gkyf",
        "colab_type": "text"
      },
      "source": [
        "以上"
      ]
    }
  ]
}
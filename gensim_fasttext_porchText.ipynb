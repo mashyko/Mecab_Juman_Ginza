{
  "nbformat": 4,
  "nbformat_minor": 0,
  "metadata": {
    "colab": {
      "name": "gensim_fasttext_porchText.ipynb",
      "provenance": [],
      "collapsed_sections": [],
      "authorship_tag": "ABX9TyNGGCXuvQHujXkk44HZOpy5",
      "include_colab_link": true
    },
    "kernelspec": {
      "name": "python3",
      "display_name": "Python 3"
    },
    "accelerator": "GPU"
  },
  "cells": [
    {
      "cell_type": "markdown",
      "metadata": {
        "id": "view-in-github",
        "colab_type": "text"
      },
      "source": [
        "<a href=\"https://colab.research.google.com/github/mashyko/NLP_BERT_Transformers/blob/master/gensim_fasttext_porchText.ipynb\" target=\"_parent\"><img src=\"https://colab.research.google.com/assets/colab-badge.svg\" alt=\"Open In Colab\"/></a>"
      ]
    },
    {
      "cell_type": "markdown",
      "metadata": {
        "id": "6Z2gOxtQSVgB",
        "colab_type": "text"
      },
      "source": [
        "#gensim 、 fastText 、 Torchtext　を用いた単語間のコサイン類似度の計算\n",
        "\n",
        "以下のウェブサイトを参考にしました。\n",
        "https://qiita.com/MonaCat/items/c26fa660a711f010c39a\n",
        "\n",
        "Torchtext　の使用については、『つくりながら学ぶ! PyTorchによる発展ディープラーニング」（小川雄太郎、マイナビ出版）』を参考にしています。\n",
        "\n",
        "google drive のディレクトリ /data/に、学習済み日本語単語辞書/vector_neologd/と/tsv/ファイルが保存されている必要があります。\n",
        "vedtor_neologdは以下からダウンロードできます。　https://drive.google.com/open?id=0ByFQ96A4DgSPUm9wVWRLdm5qbmc\n",
        "\n",
        "tsvファイルは各自で作成ください。このファイルの例は、上記の書籍にあります。"
      ]
    },
    {
      "cell_type": "code",
      "metadata": {
        "id": "t5d1A8LEQ2Lj",
        "colab_type": "code",
        "outputId": "a1aebf59-5470-4089-96ac-aec1dac0c67b",
        "colab": {
          "base_uri": "https://localhost:8080/",
          "height": 122
        }
      },
      "source": [
        "from google.colab import drive\n",
        "drive.mount('/content/drive')"
      ],
      "execution_count": 0,
      "outputs": [
        {
          "output_type": "stream",
          "text": [
            "Go to this URL in a browser: https://accounts.google.com/o/oauth2/auth?client_id=947318989803-6bn6qk8qdgf4n4g3pfee6491hc0brc4i.apps.googleusercontent.com&redirect_uri=urn%3aietf%3awg%3aoauth%3a2.0%3aoob&response_type=code&scope=email%20https%3a%2f%2fwww.googleapis.com%2fauth%2fdocs.test%20https%3a%2f%2fwww.googleapis.com%2fauth%2fdrive%20https%3a%2f%2fwww.googleapis.com%2fauth%2fdrive.photos.readonly%20https%3a%2f%2fwww.googleapis.com%2fauth%2fpeopleapi.readonly\n",
            "\n",
            "Enter your authorization code:\n",
            "··········\n",
            "Mounted at /content/drive\n"
          ],
          "name": "stdout"
        }
      ]
    },
    {
      "cell_type": "code",
      "metadata": {
        "id": "e-xUU2H7Q7wb",
        "colab_type": "code",
        "outputId": "25b5bf62-cabc-445e-c5c2-e47830d3bd1f",
        "colab": {
          "base_uri": "https://localhost:8080/",
          "height": 68
        }
      },
      "source": [
        "\n",
        "%cd /content/drive/My Drive/data\n",
        "!ls"
      ],
      "execution_count": 0,
      "outputs": [
        {
          "output_type": "stream",
          "text": [
            "/content/drive/My Drive/data\n",
            "t10k-images-idx3-ubyte\ttrain-images-idx3-ubyte  tsv\n",
            "t10k-labels-idx1-ubyte\ttrain-labels-idx1-ubyte  vector_neologd\n"
          ],
          "name": "stdout"
        }
      ]
    },
    {
      "cell_type": "code",
      "metadata": {
        "id": "NF9ifJ4JRcqq",
        "colab_type": "code",
        "outputId": "50303912-e15d-457c-a948-edb8c00b97ba",
        "colab": {
          "base_uri": "https://localhost:8080/",
          "height": 326
        }
      },
      "source": [
        "! pip install gensim"
      ],
      "execution_count": 0,
      "outputs": [
        {
          "output_type": "stream",
          "text": [
            "Requirement already satisfied: gensim in /usr/local/lib/python3.6/dist-packages (3.6.0)\n",
            "Requirement already satisfied: smart-open>=1.2.1 in /usr/local/lib/python3.6/dist-packages (from gensim) (1.9.0)\n",
            "Requirement already satisfied: six>=1.5.0 in /usr/local/lib/python3.6/dist-packages (from gensim) (1.12.0)\n",
            "Requirement already satisfied: numpy>=1.11.3 in /usr/local/lib/python3.6/dist-packages (from gensim) (1.17.5)\n",
            "Requirement already satisfied: scipy>=0.18.1 in /usr/local/lib/python3.6/dist-packages (from gensim) (1.4.1)\n",
            "Requirement already satisfied: boto3 in /usr/local/lib/python3.6/dist-packages (from smart-open>=1.2.1->gensim) (1.11.10)\n",
            "Requirement already satisfied: boto>=2.32 in /usr/local/lib/python3.6/dist-packages (from smart-open>=1.2.1->gensim) (2.49.0)\n",
            "Requirement already satisfied: requests in /usr/local/lib/python3.6/dist-packages (from smart-open>=1.2.1->gensim) (2.21.0)\n",
            "Requirement already satisfied: botocore<1.15.0,>=1.14.10 in /usr/local/lib/python3.6/dist-packages (from boto3->smart-open>=1.2.1->gensim) (1.14.10)\n",
            "Requirement already satisfied: jmespath<1.0.0,>=0.7.1 in /usr/local/lib/python3.6/dist-packages (from boto3->smart-open>=1.2.1->gensim) (0.9.4)\n",
            "Requirement already satisfied: s3transfer<0.4.0,>=0.3.0 in /usr/local/lib/python3.6/dist-packages (from boto3->smart-open>=1.2.1->gensim) (0.3.2)\n",
            "Requirement already satisfied: urllib3<1.25,>=1.21.1 in /usr/local/lib/python3.6/dist-packages (from requests->smart-open>=1.2.1->gensim) (1.24.3)\n",
            "Requirement already satisfied: certifi>=2017.4.17 in /usr/local/lib/python3.6/dist-packages (from requests->smart-open>=1.2.1->gensim) (2019.11.28)\n",
            "Requirement already satisfied: chardet<3.1.0,>=3.0.2 in /usr/local/lib/python3.6/dist-packages (from requests->smart-open>=1.2.1->gensim) (3.0.4)\n",
            "Requirement already satisfied: idna<2.9,>=2.5 in /usr/local/lib/python3.6/dist-packages (from requests->smart-open>=1.2.1->gensim) (2.8)\n",
            "Requirement already satisfied: docutils<0.16,>=0.10 in /usr/local/lib/python3.6/dist-packages (from botocore<1.15.0,>=1.14.10->boto3->smart-open>=1.2.1->gensim) (0.15.2)\n",
            "Requirement already satisfied: python-dateutil<3.0.0,>=2.1 in /usr/local/lib/python3.6/dist-packages (from botocore<1.15.0,>=1.14.10->boto3->smart-open>=1.2.1->gensim) (2.6.1)\n"
          ],
          "name": "stdout"
        }
      ]
    },
    {
      "cell_type": "code",
      "metadata": {
        "id": "fXlOOW73RVkz",
        "colab_type": "code",
        "outputId": "a2e71482-9f5d-42de-9f67-9e903d96185d",
        "colab": {
          "base_uri": "https://localhost:8080/",
          "height": 275
        }
      },
      "source": [
        "import gensim\n",
        "\n",
        "model = gensim.models.KeyedVectors.load_word2vec_format('./vector_neologd/model.vec', binary=False)\n",
        "\n",
        "model.most_similar(positive=['自然言語処理'])"
      ],
      "execution_count": 0,
      "outputs": [
        {
          "output_type": "stream",
          "text": [
            "/usr/local/lib/python3.6/dist-packages/smart_open/smart_open_lib.py:402: UserWarning: This function is deprecated, use smart_open.open instead. See the migration notes for details: https://github.com/RaRe-Technologies/smart_open/blob/master/README.rst#migrating-to-the-new-open-function\n",
            "  'See the migration notes for details: %s' % _MIGRATION_NOTES_URL\n",
            "/usr/local/lib/python3.6/dist-packages/gensim/matutils.py:737: FutureWarning: Conversion of the second argument of issubdtype from `int` to `np.signedinteger` is deprecated. In future, it will be treated as `np.int64 == np.dtype(int).type`.\n",
            "  if np.issubdtype(vec.dtype, np.int):\n"
          ],
          "name": "stderr"
        },
        {
          "output_type": "execute_result",
          "data": {
            "text/plain": [
              "[('自然言語理解', 0.7600098848342896),\n",
              " ('自然言語', 0.7503659725189209),\n",
              " ('計算言語学', 0.7258570194244385),\n",
              " ('自動プログラミング', 0.6848069429397583),\n",
              " ('テキストマイニング', 0.6811494827270508),\n",
              " ('コンピュータ言語', 0.6618390083312988),\n",
              " ('メタプログラミング', 0.658093273639679),\n",
              " ('Webプログラミング', 0.6488876342773438),\n",
              " ('形態素解析', 0.6479052901268005),\n",
              " ('コーパス言語学', 0.6465639472007751)]"
            ]
          },
          "metadata": {
            "tags": []
          },
          "execution_count": 4
        }
      ]
    },
    {
      "cell_type": "code",
      "metadata": {
        "id": "XOv7vUasRfzD",
        "colab_type": "code",
        "outputId": "1fba6a52-49e8-4963-8675-ad1a74be04b3",
        "colab": {
          "base_uri": "https://localhost:8080/",
          "height": 241
        }
      },
      "source": [
        "model.most_similar(positive=['友人'], negative=['友情'])"
      ],
      "execution_count": 0,
      "outputs": [
        {
          "output_type": "stream",
          "text": [
            "/usr/local/lib/python3.6/dist-packages/gensim/matutils.py:737: FutureWarning: Conversion of the second argument of issubdtype from `int` to `np.signedinteger` is deprecated. In future, it will be treated as `np.int64 == np.dtype(int).type`.\n",
            "  if np.issubdtype(vec.dtype, np.int):\n"
          ],
          "name": "stderr"
        },
        {
          "output_type": "execute_result",
          "data": {
            "text/plain": [
              "[('知人', 0.4586910605430603),\n",
              " ('自宅', 0.35488438606262207),\n",
              " ('知り合い', 0.329221248626709),\n",
              " ('入り浸り', 0.3212822675704956),\n",
              " ('親戚', 0.31865695118904114),\n",
              " ('知り合っ', 0.3158203959465027),\n",
              " ('宅', 0.31503963470458984),\n",
              " ('誘わ', 0.302945077419281),\n",
              " ('繁く', 0.30250048637390137),\n",
              " ('同僚', 0.29792869091033936)]"
            ]
          },
          "metadata": {
            "tags": []
          },
          "execution_count": 5
        }
      ]
    },
    {
      "cell_type": "code",
      "metadata": {
        "id": "8u66EgJdR6fj",
        "colab_type": "code",
        "outputId": "db9be701-7330-44cf-ed93-396bdbde0138",
        "colab": {
          "base_uri": "https://localhost:8080/",
          "height": 122
        }
      },
      "source": [
        "!pip install janome"
      ],
      "execution_count": 0,
      "outputs": [
        {
          "output_type": "stream",
          "text": [
            "Collecting janome\n",
            "\u001b[?25l  Downloading https://files.pythonhosted.org/packages/79/f0/bd7f90806132d7d9d642d418bdc3e870cfdff5947254ea3cab27480983a7/Janome-0.3.10-py2.py3-none-any.whl (21.5MB)\n",
            "\u001b[K     |████████████████████████████████| 21.5MB 156kB/s \n",
            "\u001b[?25hInstalling collected packages: janome\n",
            "Successfully installed janome-0.3.10\n"
          ],
          "name": "stdout"
        }
      ]
    },
    {
      "cell_type": "code",
      "metadata": {
        "id": "z884CDCUR58s",
        "colab_type": "code",
        "colab": {}
      },
      "source": [
        "from janome.tokenizer import Tokenizer\n",
        "\n",
        "j_t = Tokenizer()\n",
        "\n",
        "def tokenizer_janome(text):\n",
        "    return [tok for tok in j_t.tokenize(text, wakati=True)]"
      ],
      "execution_count": 0,
      "outputs": []
    },
    {
      "cell_type": "code",
      "metadata": {
        "id": "M6UXYZ4SSCj4",
        "colab_type": "code",
        "colab": {}
      },
      "source": [
        "import re\n",
        "import unicodedata\n",
        "import string\n",
        "\n",
        "\n",
        "def format_text(text):\n",
        "    text = unicodedata.normalize(\"NFKC\", text)\n",
        "    table = str.maketrans(\"\", \"\", string.punctuation  + \"「」、。・\")\n",
        "    text = text.translate(table)\n",
        "\n",
        "    return text\n",
        "\n",
        "\n",
        "def preprocessing(text):\n",
        "    \"\"\"\n",
        "    前処理をする関数\n",
        "    \"\"\"\n",
        "    text.translate(str.maketrans({chr(0xFF01 + i): chr(0x21 + i) for i in range(94)}))  # 全角→半角\n",
        "\n",
        "    text = text.lower()  # 大文字→小文字\n",
        "\n",
        "    text = re.sub('\\r', '', text)\n",
        "    text = re.sub('\\n', '', text)\n",
        "    text = re.sub(' ', '', text)\n",
        "    text = re.sub('　', '', text)\n",
        "\n",
        "    text = re.sub(r'[0-9 ０-９]', '', text)  # 数字の除去\n",
        "    text = re.sub(r'[!-/:-@[-`{-~]', '', text)  # 半角記号の除去\n",
        "    text = re.sub(r'/[！-／：-＠［-｀｛-～、-〜”’・]', '', text)  # 全角記号の除去\n",
        "    text = format_text(text)  # 全角記号の除去\n",
        "\n",
        "    return  text\n",
        "\n",
        "\n",
        "def tokenizer_with_preprocessing(text):\n",
        "    text = preprocessing(text)\n",
        "    text = tokenizer_janome(text)\n",
        "\n",
        "    return text"
      ],
      "execution_count": 0,
      "outputs": []
    },
    {
      "cell_type": "code",
      "metadata": {
        "id": "SK2zvaiASJvd",
        "colab_type": "code",
        "outputId": "896b0243-7bdb-4867-acea-0330a4788793",
        "colab": {
          "base_uri": "https://localhost:8080/",
          "height": 34
        }
      },
      "source": [
        "text = '今回は　fastTextを　使って 分散表現を獲得したい！！！?'\n",
        "print(tokenizer_with_preprocessing(text))"
      ],
      "execution_count": 0,
      "outputs": [
        {
          "output_type": "stream",
          "text": [
            "['今回', 'は', 'fasttext', 'を', '使っ', 'て', '分散', '表現', 'を', '獲得', 'し', 'たい']\n"
          ],
          "name": "stdout"
        }
      ]
    },
    {
      "cell_type": "code",
      "metadata": {
        "id": "RF-xmttmSONr",
        "colab_type": "code",
        "colab": {}
      },
      "source": [
        "import torchtext\n",
        "\n",
        "max_length = 25\n",
        "TEXT = torchtext.data.Field(sequential=True, tokenize=tokenizer_with_preprocessing,\n",
        "                            use_vocab=True, lower=True, include_lengths=True,\n",
        "                            batch_first=True, fix_length=max_length)\n",
        "LABEL = torchtext.data.Field(sequential=False, use_vocab=False)\n",
        "\n",
        "train_ds, val_ds, test_ds = torchtext.data.TabularDataset.splits(\n",
        "    path='/content/drive/My Drive/data/tsv', train='train.tsv',\n",
        "    validation='val.tsv', test='test.tsv', format='tsv',\n",
        "    fields=[('Text', TEXT), ('Label', LABEL)])"
      ],
      "execution_count": 0,
      "outputs": []
    },
    {
      "cell_type": "code",
      "metadata": {
        "id": "BmyWKqSfSoTS",
        "colab_type": "code",
        "outputId": "ecda8f09-49de-46c5-b67e-456ca2eaae6a",
        "colab": {
          "base_uri": "https://localhost:8080/",
          "height": 901
        }
      },
      "source": [
        "from torchtext.vocab import Vectors\n",
        "\n",
        "vectors = Vectors(name='./vector_neologd/model.vec')\n",
        "\n",
        "# ベクトル化したバージョンのボキャブラリーを作成します\n",
        "TEXT.build_vocab(train_ds, vectors=vectors, min_freq=1)\n",
        "\n",
        "# ボキャブラリーのベクトルを確認します\n",
        "print(TEXT.vocab.vectors.shape)  # 52個の単語が300次元のベクトルで表現されている\n",
        "TEXT.vocab.vectors\n",
        "\n",
        "# ボキャブラリーの単語の順番を確認します\n",
        "TEXT.vocab.stoi"
      ],
      "execution_count": 0,
      "outputs": [
        {
          "output_type": "stream",
          "text": [
            "  0%|          | 0/351122 [00:00<?, ?it/s]Skipping token b'351122' with 1-dimensional vector [b'300']; likely a header\n",
            "100%|█████████▉| 350609/351122 [00:32<00:00, 10107.70it/s]"
          ],
          "name": "stderr"
        },
        {
          "output_type": "stream",
          "text": [
            "torch.Size([49, 300])\n"
          ],
          "name": "stdout"
        },
        {
          "output_type": "execute_result",
          "data": {
            "text/plain": [
              "defaultdict(<function torchtext.vocab._default_unk_index>,\n",
              "            {'<pad>': 1,\n",
              "             '<unk>': 0,\n",
              "             'い': 16,\n",
              "             'いる': 9,\n",
              "             'か': 10,\n",
              "             'から': 17,\n",
              "             'が': 6,\n",
              "             'し': 7,\n",
              "             'する': 18,\n",
              "             'その': 19,\n",
              "             'た': 20,\n",
              "             'て': 11,\n",
              "             'で': 21,\n",
              "             'です': 22,\n",
              "             'と': 2,\n",
              "             'な': 3,\n",
              "             'に': 23,\n",
              "             'に対して': 24,\n",
              "             'の': 4,\n",
              "             'は': 25,\n",
              "             'まし': 26,\n",
              "             'ます': 12,\n",
              "             'を': 8,\n",
              "             'クラス': 27,\n",
              "             'ネガティブ': 28,\n",
              "             'ポジティブ': 29,\n",
              "             'モデル': 30,\n",
              "             'レビュー': 31,\n",
              "             '値': 32,\n",
              "             '処理': 33,\n",
              "             '分類': 13,\n",
              "             '取り組み': 34,\n",
              "             '商品': 35,\n",
              "             '女性': 36,\n",
              "             '女王': 37,\n",
              "             '好き': 38,\n",
              "             '姫': 39,\n",
              "             '学習': 40,\n",
              "             '文章': 5,\n",
              "             '本章': 14,\n",
              "             '構築': 41,\n",
              "             '機械': 42,\n",
              "             '王': 43,\n",
              "             '王子': 44,\n",
              "             '男性': 45,\n",
              "             '短い': 46,\n",
              "             '自然': 47,\n",
              "             '言語': 48,\n",
              "             '評価': 15})"
            ]
          },
          "metadata": {
            "tags": []
          },
          "execution_count": 12
        }
      ]
    },
    {
      "cell_type": "code",
      "metadata": {
        "id": "1h7aclhBSu8G",
        "colab_type": "code",
        "outputId": "33b7d455-eba6-4933-bbee-c2aa300d5be7",
        "colab": {
          "base_uri": "https://localhost:8080/",
          "height": 68
        }
      },
      "source": [
        "import torch.nn.functional as F\n",
        "\n",
        "tensor_calc = TEXT.vocab.vectors[TEXT.vocab.stoi['単語']]\n",
        "\n",
        "# コサイン類似度\n",
        "print(\"論文\", F.cosine_similarity(tensor_calc, TEXT.vocab.vectors[TEXT.vocab.stoi['論文']], dim=0))\n",
        "print(\"ワード\", F.cosine_similarity(tensor_calc, TEXT.vocab.vectors[TEXT.vocab.stoi['ワード']], dim=0))\n",
        "print(\"ベクトル\", F.cosine_similarity(tensor_calc, TEXT.vocab.vectors[TEXT.vocab.stoi['ベクトル']], dim=0))"
      ],
      "execution_count": 0,
      "outputs": [
        {
          "output_type": "stream",
          "text": [
            "論文 tensor(0.)\n",
            "ワード tensor(0.)\n",
            "ベクトル tensor(0.)\n"
          ],
          "name": "stdout"
        }
      ]
    }
  ]
}